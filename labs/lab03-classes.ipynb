{
  "nbformat": 4,
  "nbformat_minor": 0,
  "metadata": {
    "kernelspec": {
      "display_name": "Python 3",
      "language": "python",
      "name": "python3"
    },
    "language_info": {
      "codemirror_mode": {
        "name": "ipython",
        "version": 2
      },
      "file_extension": ".py",
      "mimetype": "text/x-python",
      "name": "python",
      "nbconvert_exporter": "python",
      "pygments_lexer": "ipython2",
      "version": "2.7.6"
    },
    "colab": {
      "provenance": [],
      "include_colab_link": true
    }
  },
  "cells": [
    {
      "cell_type": "markdown",
      "metadata": {
        "id": "view-in-github",
        "colab_type": "text"
      },
      "source": [
        "<a href=\"https://colab.research.google.com/github/emkalan/comp215/blob/main/labs/lab03-classes.ipynb\" target=\"_parent\"><img src=\"https://colab.research.google.com/assets/colab-badge.svg\" alt=\"Open In Colab\"/></a>"
      ]
    },
    {
      "cell_type": "markdown",
      "source": [
        "COMP 215 - LAB 3\n",
        "----------------\n",
        "#### Name(s):\n",
        "#### Date:\n",
        "\n",
        "By the end of this lab you should be able to:\n",
        "  * use a `class` to organize related data and functions\n",
        "  * identify a `record` as a related collection of data, with fields for each data value\n",
        "\n",
        "During this lab, you will be introduced to the following:\n",
        "  * the `@dataclass` decorator to simplify class definition for classes that primarily encapsulate a data structure.\n",
        "  * the `@classmethod` decorator to create 'object factories'.\n",
        "  * plotting frequency distributions in `matplotlib`\n",
        "\n"
      ],
      "metadata": {
        "id": "nbRPZPKZU5Pk"
      }
    },
    {
      "cell_type": "markdown",
      "source": [
        "## Near Earth Objects (with classes)\n",
        "\n",
        "We'll continue working with Near Earth Object data using NASA's API: https://api.nasa.gov/.  In this lab we will define an Asteroid class to help us structure the data for easier data analysis.  Here's a brief review from Lab 2 on how to use the API.  "
      ],
      "metadata": {
        "id": "j0F0hjKzgQ1W"
      }
    },
    {
      "cell_type": "code",
      "execution_count": 46,
      "outputs": [],
      "source": [
        "# import necessary modules\n",
        "import datetime, json, requests\n",
        "from dataclasses import dataclass\n",
        "from pprint import pprint\n",
        "import matplotlib.pyplot as plt\n",
        "%matplotlib inline\n",
        "\n",
        "###\n",
        "\n",
        "today = datetime.date.today()\n",
        "week_start = today - datetime.timedelta(days=today.weekday())\n",
        "week_start = week_start.strftime('%Y-%m-%d')"
      ],
      "metadata": {
        "pycharm": {
          "name": "#%%\n"
        },
        "ExecuteTime": {
          "end_time": "2024-01-04T04:10:54.380220Z",
          "start_time": "2024-01-04T04:10:54.335677Z"
        },
        "id": "TLWTJDuVfSzO"
      }
    },
    {
      "cell_type": "markdown",
      "source": [
        "### Review: make an API query\n",
        "\n",
        "Here's a query that gets the record for a single NEO that recently passed by.  Read these functions carefully to be sure you know what they are returning.  Note the nested for loop structure in the return statement of the `get_neos` function - be sure to understand what it is doing.  You might want to add some more `pprint` statements to be sure you understand the data structures."
      ],
      "metadata": {
        "collapsed": false,
        "pycharm": {
          "name": "#%% md\n"
        },
        "id": "ug6L49x3fSzP"
      }
    },
    {
      "cell_type": "code",
      "execution_count": 47,
      "outputs": [
        {
          "output_type": "stream",
          "name": "stdout",
          "text": [
            "100 Near Earth Objects found for week of 2025-01-20\n",
            "{'absolute_magnitude_h': 23.279,\n",
            " 'close_approach_data': [{'close_approach_date': '2022-12-31',\n",
            "                          'close_approach_date_full': '2022-Dec-31 19:52',\n",
            "                          'epoch_date_close_approach': 1672516320000,\n",
            "                          'miss_distance': {'astronomical': '0.1227159571',\n",
            "                                            'kilometers': '18358045.797171377',\n",
            "                                            'lunar': '47.7365073119',\n",
            "                                            'miles': '11407160.7012919226'},\n",
            "                          'orbiting_body': 'Venus',\n",
            "                          'relative_velocity': {'kilometers_per_hour': '76822.9315031142',\n",
            "                                                'kilometers_per_second': '21.3397031953',\n",
            "                                                'miles_per_hour': '47734.7820775878'}},\n",
            "                         {'close_approach_date': '2025-01-20',\n",
            "                          'close_approach_date_full': '2025-Jan-20 02:31',\n",
            "                          'epoch_date_close_approach': 1737340260000,\n",
            "                          'miss_distance': {'astronomical': '0.0504009281',\n",
            "                                            'kilometers': '7539871.489783147',\n",
            "                                            'lunar': '19.6059610309',\n",
            "                                            'miles': '4685058.8946835486'},\n",
            "                          'orbiting_body': 'Earth',\n",
            "                          'relative_velocity': {'kilometers_per_hour': '66389.2369417199',\n",
            "                                                'kilometers_per_second': '18.441454706',\n",
            "                                                'miles_per_hour': '41251.6900319259'}}],\n",
            " 'designation': '2025 BH1',\n",
            " 'estimated_diameter': {'feet': {'estimated_diameter_max': 430.7497459749,\n",
            "                                 'estimated_diameter_min': 192.6371426581},\n",
            "                        'kilometers': {'estimated_diameter_max': 0.1312925184,\n",
            "                                       'estimated_diameter_min': 0.0587157992},\n",
            "                        'meters': {'estimated_diameter_max': 131.2925183718,\n",
            "                                   'estimated_diameter_min': 58.7157992033},\n",
            "                        'miles': {'estimated_diameter_max': 0.0815813634,\n",
            "                                  'estimated_diameter_min': 0.0364842949}},\n",
            " 'id': '54516468',\n",
            " 'is_potentially_hazardous_asteroid': False,\n",
            " 'is_sentry_object': False,\n",
            " 'links': {'self': 'http://api.nasa.gov/neo/rest/v1/neo/54516468?api_key=eTmwtMM5Ayf8iWfkEeUhbVPyihLGW4wj9aIp6r8u'},\n",
            " 'name': '(2025 BH1)',\n",
            " 'nasa_jpl_url': 'https://ssd.jpl.nasa.gov/tools/sbdb_lookup.html#/?sstr=54516468',\n",
            " 'neo_reference_id': '54516468',\n",
            " 'orbital_data': {'aphelion_distance': '2.374973737762134',\n",
            "                  'ascending_node_longitude': '308.5534084642575',\n",
            "                  'data_arc_in_days': 1,\n",
            "                  'eccentricity': '.5876187828101831',\n",
            "                  'epoch_osculation': '2460696.5',\n",
            "                  'equinox': 'J2000',\n",
            "                  'first_observation_date': '2025-01-20',\n",
            "                  'inclination': '15.93427140703559',\n",
            "                  'jupiter_tisserand_invariant': '4.313',\n",
            "                  'last_observation_date': '2025-01-21',\n",
            "                  'mean_anomaly': '28.47961882983942',\n",
            "                  'mean_motion': '.538685392510153',\n",
            "                  'minimum_orbit_intersection': '.0378319',\n",
            "                  'observations_used': 47,\n",
            "                  'orbit_class': {'orbit_class_description': 'Near-Earth '\n",
            "                                                             'asteroid orbits '\n",
            "                                                             'which cross the '\n",
            "                                                             'Earth’s orbit '\n",
            "                                                             'similar to that '\n",
            "                                                             'of 1862 Apollo',\n",
            "                                  'orbit_class_range': 'a (semi-major axis) > '\n",
            "                                                       '1.0 AU; q (perihelion) '\n",
            "                                                       '< 1.017 AU',\n",
            "                                  'orbit_class_type': 'APO'},\n",
            "                  'orbit_determination_date': '2025-01-21 17:12:01',\n",
            "                  'orbit_id': '1',\n",
            "                  'orbit_uncertainty': '8',\n",
            "                  'orbital_period': '668.2935995767043',\n",
            "                  'perihelion_argument': '80.75224637748876',\n",
            "                  'perihelion_distance': '.6168952971434422',\n",
            "                  'perihelion_time': '2460643.631258382317',\n",
            "                  'semi_major_axis': '1.495934517452788'}}\n"
          ]
        }
      ],
      "source": [
        "from google.colab import userdata\n",
        "API_KEY = userdata.get('API_KEY')  # substitute your API key here\n",
        "\n",
        "def get_neos(start_date):\n",
        "    \"\"\" Return a list of NEO for the week starting at start_date \"\"\"\n",
        "    url = f'https://api.nasa.gov/neo/rest/v1/feed?start_date={start_date}&api_key={API_KEY}'\n",
        "    # Fetch last week's NEO feed\n",
        "    response = requests.request(\"GET\", url, headers={}, data={})\n",
        "    data = json.loads(response.text)\n",
        "    print(f'{data[\"element_count\"]} Near Earth Objects found for week of {start_date}')\n",
        "    return [neo for dated_records in data['near_earth_objects'].values() for neo in dated_records ]\n",
        "\n",
        "def get_neo(id):\n",
        "    \"\"\" Return a NEO record for the given id \"\"\"\n",
        "    url = f'https://api.nasa.gov/neo/rest/v1/neo/{id}?api_key={API_KEY}'\n",
        "    response = requests.request(\"GET\", url, headers={}, data={})\n",
        "    return json.loads(response.text)\n",
        "\n",
        "neos = get_neos(week_start)\n",
        "assert len(neos) > 0, f'Oh oh!  No NEOs found for {week_start}'\n",
        "neo = get_neo(neos[-1]['id'])  # get the very latest NEO\n",
        "pprint(neo)"
      ],
      "metadata": {
        "collapsed": true,
        "pycharm": {
          "name": "#%%\n"
        },
        "ExecuteTime": {
          "end_time": "2024-01-04T04:11:12.889668Z",
          "start_time": "2024-01-04T04:10:54.383166Z"
        },
        "id": "7Ex-7gB4fSzP",
        "colab": {
          "base_uri": "https://localhost:8080/"
        },
        "outputId": "23f84b18-c9d2-4716-9717-7d75da100c7c"
      }
    },
    {
      "cell_type": "markdown",
      "source": [
        "## Exercise 1:  Define an Asteroid class\n",
        "\n",
        "Define a simple Asteroid class with some basic state variables for a single NEO.  Your Asteroid class should define at least 4 \"state variables:”\n",
        "\n",
        "    id\n",
        "    name\n",
        "    estimated_diameter (m)\n",
        "    is_potentially_hazardous (bool)\n",
        "\n",
        "Operations must include:\n",
        "* `__init__(self, ...)` method to initialize a new Asteroid object with specific data values\n",
        "* `__str__(self)`, and `__repr__(self)` methods that return nicely formatted string representations of the object.\n",
        "\n",
        "Write a little code to test your new class."
      ],
      "metadata": {
        "collapsed": false,
        "pycharm": {
          "name": "#%% md\n"
        },
        "id": "DcpH1nvJfSzP"
      }
    },
    {
      "cell_type": "code",
      "execution_count": 48,
      "outputs": [
        {
          "output_type": "stream",
          "name": "stdout",
          "text": [
            "All tests passed.\n"
          ]
        }
      ],
      "source": [
        "# Ex.1 your code here\n",
        "class Asteroid:\n",
        "  \"\"\"\n",
        "  A class to represent an Asteroid.\n",
        "\n",
        "  Attributes:\n",
        "      id (str): The unique identifier of the asteroid.\n",
        "      name (str): The name of the asteroid.\n",
        "      estimated_diameter (float): The estimated diameter of the asteroid in meters.\n",
        "      is_potentially_hazardous (bool): Whether the asteroid is potentially hazardous.\n",
        "  \"\"\"\n",
        "  def __init__(self, id, name, estimated_diameter, is_potentially_hazardous):\n",
        "    self.id = id\n",
        "    self.name = name\n",
        "    self.estimated_diameter = estimated_diameter\n",
        "    self.is_potentially_hazardous = is_potentially_hazardous\n",
        "\n",
        "def test_asteroid():\n",
        "    asteroid = Asteroid(\"12345\", \"AAA\", 900, True)\n",
        "\n",
        "    assert asteroid.id == \"12345\", f\"Expected '12345', got {asteroid.id}\"\n",
        "    assert asteroid.name == \"AAA\", f\"Expected 'AAA', got {asteroid.name}\"\n",
        "    assert asteroid.estimated_diameter == 900, f\"Expected 900, got {asteroid.estimated_diameter}\"\n",
        "    assert asteroid.is_potentially_hazardous == True, f\"Expected True, got {asteroid.is_potentially_hazardous}\"\n",
        "\n",
        "    print(\"All tests passed.\")\n",
        "\n",
        "test_asteroid()\n"
      ],
      "metadata": {
        "pycharm": {
          "name": "#%%\n"
        },
        "ExecuteTime": {
          "end_time": "2024-01-04T04:11:12.891665Z",
          "start_time": "2024-01-04T04:11:12.889274Z"
        },
        "id": "FklvnAw4fSzQ",
        "colab": {
          "base_uri": "https://localhost:8080/"
        },
        "outputId": "b2dcf669-e22a-4594-d2b8-8e1257cdacf3"
      }
    },
    {
      "cell_type": "markdown",
      "source": [
        "## Exercise 2: Make a histogram\n",
        "\n",
        "Create a list of all the Asteroid objects from this week's NEO feed and use the list to create a histogram to visualize the distribution of Asteroid diameters.  To create the historgram use the `hist()` method in the `matplotlib.pyplot` module."
      ],
      "metadata": {
        "id": "1BIePZEEVbhK"
      }
    },
    {
      "cell_type": "code",
      "source": [
        "# Ex. 2 your code here\n",
        "estimated_diameters = [asteroid['estimated_diameter']['meters']['estimated_diameter_min'] for asteroid in neos]\n",
        "hist = plt.hist(estimated_diameters, bins=10)\n",
        "plt.xlabel('Asteroid diameter (m)')\n",
        "plt.ylabel('Frequency')\n",
        "plt.title('Asteroid diameter distribution')\n",
        "plt.show()"
      ],
      "metadata": {
        "id": "orJxuk8nVd_B",
        "colab": {
          "base_uri": "https://localhost:8080/",
          "height": 472
        },
        "outputId": "a5bf155d-6d53-4901-8293-99fbf240a155"
      },
      "execution_count": 49,
      "outputs": [
        {
          "output_type": "display_data",
          "data": {
            "text/plain": [
              "<Figure size 640x480 with 1 Axes>"
            ],
            "image/png": "[encoded data removed]"
          },
          "metadata": {}
        }
      ]
    },
    {
      "cell_type": "markdown",
      "source": [
        "## Exercise 3: Use `@dataclass` and `@classmethod` to do the same thing\n",
        "\n",
        "Now that you know how to define a simple class, we are going to use a use decorators to simplify (ie. shorten) our class definitions.  You will redefine the Asteroid class in this exercise.  Note that having two different definitions of a class in a single piece of code is very bad practice. I am asking you to do it here just so that you can see the differt ways to define classes.\n",
        "\n",
        " 1. Use the `@dataclass` decorator from the `dataclasses` module to define the Asteroid class.  The `@dataclass` decorator will automatically generate some of the commonly used methods, like `__init()__`, `__repr()__`, and `__eq()__`.  The definition should start like this:\n",
        "    ```\n",
        "    @dataclass\n",
        "    class Asteroid:\n",
        "      ...\n",
        "    ```\n",
        "Write a little code to test your new class.\n",
        "  \n",
        "\n",
        " 2. Use the `@classmethod` decorator to construct a `from_NEO()` 'factory method' inside your Asteroid class that creates Asteroid objects from the NEO API.  The method should take the id for a single NEO, fetche the NEO record from API, constructs a single Asteroid object, and return the Asteroid object representing that NEO.  This kind of method is called a “Factory” because it constructs an object from raw materials.  The object factory method should start like this:\n",
        "    ```\n",
        "    @classmethod\n",
        "    from_NEO(cls, neo_id):\n",
        "        ...\n",
        "    ```\n",
        "Write a little code to test your new method.\n",
        "\n",
        " 3. Use your new Asteroid class to create a list of Asteroid objects.  Use this list to create the same historgram as in Exercise 2.  \n",
        "\n",
        "\n"
      ],
      "metadata": {
        "id": "oae6EWIhQW76"
      }
    },
    {
      "cell_type": "code",
      "source": [
        "# Ex.3 your code here\n",
        "@dataclass\n",
        "class Asteroid:\n",
        "  \"\"\"A class to represent an Asteroid.\n",
        "\n",
        "  Attributes:\n",
        "      id (str): The unique identifier of the asteroid.\n",
        "      name (str): The name of the asteroid.\n",
        "      estimated_diameter (float): The estimated diameter of the asteroid in meters.\n",
        "      is_potentially_hazardous (bool): Whether the asteroid is potentially hazardous.\n",
        "  \"\"\"\n",
        "  id: str\n",
        "  name: str\n",
        "  estimated_diameter: float\n",
        "  is_potentially_hazardous: bool\n",
        "  orbital_period: float = None\n",
        "\n",
        "  @classmethod\n",
        "  def get_neos_with_orbital_data(cls, start_date): # Add cls as the first argument\n",
        "    \"\"\"Return a list of NEO for the week starting at start_date with orbital data.\"\"\"\n",
        "    url = f'https://api.nasa.gov/neo/rest/v1/feed?start_date={start_date}&api_key={API_KEY}'\n",
        "    try:\n",
        "      response = requests.request(\"GET\", url, headers={}, data={})\n",
        "      response.raise_for_status()  # Will raise an exception for non-2xx responses\n",
        "      data = json.loads(response.text)\n",
        "    except requests.exceptions.RequestException as e:\n",
        "      print(f\"An error occurred: {e}\")\n",
        "      return {}\n",
        "\n",
        "    print(f'{data[\"element_count\"]} Near Earth Objects found for week of {start_date}')\n",
        "\n",
        "    neos_data = {}\n",
        "    for dated_records in data['near_earth_objects'].values():\n",
        "        for neo in dated_records:\n",
        "            neos_data[neo['id']] = {\n",
        "                'name': neo['name'],\n",
        "                'estimated_diameter': neo['estimated_diameter']['meters']['estimated_diameter_min'],\n",
        "                'is_potentially_hazardous': neo['is_potentially_hazardous_asteroid'],\n",
        "                'orbital_period': neo['orbital_data'].get('orbital_period') if 'orbital_data' in neo else None\n",
        "            }\n",
        "    return neos_data\n",
        "\n",
        "neos_data = Asteroid.get_neos_with_orbital_data(week_start)\n",
        "asteroids = [Asteroid(id=neo_id, **neo_data) for neo_id, neo_data in neos_data.items()]\n",
        "estimated_diameters = [asteroid.estimated_diameter for asteroid in asteroids]\n",
        "hist = plt.hist(estimated_diameters, bins=10)\n",
        "plt.xlabel('Asteroid diameter (m)')\n",
        "plt.ylabel('Frequency')\n",
        "plt.title('Asteroid diameter distribution')\n",
        "plt.show()"
      ],
      "metadata": {
        "id": "ygUi21mXX25Y",
        "colab": {
          "base_uri": "https://localhost:8080/",
          "height": 489
        },
        "outputId": "30622d37-af74-4a3d-80b2-d18ab0a8b1a5"
      },
      "execution_count": 50,
      "outputs": [
        {
          "output_type": "stream",
          "name": "stdout",
          "text": [
            "100 Near Earth Objects found for week of 2025-01-20\n"
          ]
        },
        {
          "output_type": "display_data",
          "data": {
            "text/plain": [
              "<Figure size 640x480 with 1 Axes>"
            ],
            "image/png": "[encoded data removed]"
          },
          "metadata": {}
        }
      ]
    },
    {
      "cell_type": "markdown",
      "source": [
        "## Challenge Exercise:\n",
        "\n",
        "One of your esteemed astromoner collegues has a theory that there is a correlation between the diameter and the orbital period of an asteroid.  Add the `orbital_period` data from the NEO API to your Asteroid class definition and use it to plot the orbital period (in years) versus the estimated diameter (in m) of all the asteroids from this week's NEO record.  Do you see a correlation?"
      ],
      "metadata": {
        "id": "4TznF_wiZJqu"
      }
    },
    {
      "cell_type": "code",
      "source": [
        "BASE_URL = \"https://api.nasa.gov/neo/rest/v1\"\n",
        "\n",
        "url = f\"{BASE_URL}/feed?start_date=2025-01-15&end_date=2025-01-21&api_key={API_KEY}\"\n",
        "response = requests.get(url).json()\n",
        "\n",
        "asteroid_data = [\n",
        "    {\n",
        "        \"id\": asteroid['id'],\n",
        "        \"name\": asteroid['name'],\n",
        "        \"diameter\": asteroid['estimated_diameter']['meters']['estimated_diameter_max'],\n",
        "        \"is_hazardous\": asteroid['is_potentially_hazardous_asteroid']\n",
        "    }\n",
        "    for date in response['near_earth_objects']\n",
        "    for asteroid in response['near_earth_objects'][date]\n",
        "]\n",
        "\n",
        "asteroids = []\n",
        "for data in asteroid_data:\n",
        "    asteroid_url = f\"{BASE_URL}/neo/{data['id']}?api_key={API_KEY}\"\n",
        "    detailed_response = requests.get(asteroid_url).json()\n",
        "\n",
        "    orbital_period_days = detailed_response.get('orbital_data', {}).get('orbital_period')\n",
        "    if orbital_period_days:\n",
        "        orbital_period_years = float(orbital_period_days) / 365.25\n",
        "        asteroid = {\n",
        "            \"name\": data['name'],\n",
        "            \"diameter\": data['diameter'],\n",
        "            \"is_hazardous\": data['is_hazardous'],\n",
        "            \"orbital_period\": orbital_period_years\n",
        "\n",
        "        }\n",
        "        asteroids.append(asteroid)\n",
        "        print(f\"Added asteroid: {name}, Orbital Period (years): {orbital_period_years}\")\n",
        "\n",
        "diameters = [asteroid['diameter'] for asteroid in asteroids]\n",
        "orbital_periods = [asteroid['orbital_period'] for asteroid in asteroids]\n",
        "\n",
        "# Plot data\n",
        "plt.figure(figsize=(10, 6))\n",
        "plt.scatter(orbital_periods, diameters, alpha=0.7)\n",
        "plt.title(\"Asteroid Orbital Period (years) vs. Estimated Diameter (meters)\")\n",
        "plt.xlabel(\"Orbital Period (years)\")\n",
        "plt.ylabel(\"Estimated Diameter (meters)\")\n",
        "plt.grid(True)\n",
        "plt.show()\n"
      ],
      "metadata": {
        "id": "zPNjfdzI-z86",
        "outputId": "b70395f8-35f1-499e-8ecc-e1e62bdf92af",
        "colab": {
          "base_uri": "https://localhost:8080/",
          "height": 1000
        }
      },
      "execution_count": 78,
      "outputs": [
        {
          "output_type": "stream",
          "name": "stdout",
          "text": [
            "Added asteroid: (2025 BC), Orbital Period (years): 0.8177588177928644\n",
            "Added asteroid: (2025 BC), Orbital Period (years): 0.7828018680692367\n",
            "Added asteroid: (2025 BC), Orbital Period (years): 0.9138638457124181\n",
            "Added asteroid: (2025 BC), Orbital Period (years): 0.6036265518164803\n",
            "Added asteroid: (2025 BC), Orbital Period (years): 4.010895699421884\n",
            "Added asteroid: (2025 BC), Orbital Period (years): 1.2212549605316336\n",
            "Added asteroid: (2025 BC), Orbital Period (years): 1.0132797289398987\n",
            "Added asteroid: (2025 BC), Orbital Period (years): 2.016466234251748\n",
            "Added asteroid: (2025 BC), Orbital Period (years): 2.264613948195843\n",
            "Added asteroid: (2025 BC), Orbital Period (years): 1.226401983828708\n",
            "Added asteroid: (2025 BC), Orbital Period (years): 2.1217773317416158\n",
            "Added asteroid: (2025 BC), Orbital Period (years): 2.9468955889104285\n",
            "Added asteroid: (2025 BC), Orbital Period (years): 2.1033258089774125\n",
            "Added asteroid: (2025 BC), Orbital Period (years): 1.9018427930739676\n",
            "Added asteroid: (2025 BC), Orbital Period (years): 1.6507296917821102\n",
            "Added asteroid: (2025 BC), Orbital Period (years): 1.1945437399429033\n",
            "Added asteroid: (2025 BC), Orbital Period (years): 1.581144962083683\n",
            "Added asteroid: (2025 BC), Orbital Period (years): 0.7880925588962711\n",
            "Added asteroid: (2025 BC), Orbital Period (years): 0.8059304420719741\n",
            "Added asteroid: (2025 BC), Orbital Period (years): 0.7868725575357867\n",
            "Added asteroid: (2025 BC), Orbital Period (years): 1.0300781705075164\n",
            "Added asteroid: (2025 BC), Orbital Period (years): 0.9436110836558935\n",
            "Added asteroid: (2025 BC), Orbital Period (years): 0.8542772825475279\n",
            "Added asteroid: (2025 BC), Orbital Period (years): 1.0820915947207184\n",
            "Added asteroid: (2025 BC), Orbital Period (years): 3.6019142864811116\n",
            "Added asteroid: (2025 BC), Orbital Period (years): 4.688077836777887\n",
            "Added asteroid: (2025 BC), Orbital Period (years): 2.8204190502531636\n",
            "Added asteroid: (2025 BC), Orbital Period (years): 2.8444297599029706\n",
            "Added asteroid: (2025 BC), Orbital Period (years): 3.8825699810950693\n",
            "Added asteroid: (2025 BC), Orbital Period (years): 0.8503175701604258\n",
            "Added asteroid: (2025 BC), Orbital Period (years): 1.5822597868342745\n",
            "Added asteroid: (2025 BC), Orbital Period (years): 1.258458474128696\n",
            "Added asteroid: (2025 BC), Orbital Period (years): 1.313068511559764\n",
            "Added asteroid: (2025 BC), Orbital Period (years): 1.3121524106265277\n",
            "Added asteroid: (2025 BC), Orbital Period (years): 0.6958410787481495\n",
            "Added asteroid: (2025 BC), Orbital Period (years): 1.981478459860576\n",
            "Added asteroid: (2025 BC), Orbital Period (years): 1.5291873801708045\n",
            "Added asteroid: (2025 BC), Orbital Period (years): 1.4967588701106624\n",
            "Added asteroid: (2025 BC), Orbital Period (years): 3.023041753230552\n",
            "Added asteroid: (2025 BC), Orbital Period (years): 0.9669228998460663\n",
            "Added asteroid: (2025 BC), Orbital Period (years): 1.2117734112773642\n",
            "Added asteroid: (2025 BC), Orbital Period (years): 2.08445062040722\n",
            "Added asteroid: (2025 BC), Orbital Period (years): 3.772930260995359\n",
            "Added asteroid: (2025 BC), Orbital Period (years): 1.3921791599078568\n",
            "Added asteroid: (2025 BC), Orbital Period (years): 1.004828861051033\n",
            "Added asteroid: (2025 BC), Orbital Period (years): 3.824830282771978\n",
            "Added asteroid: (2025 BC), Orbital Period (years): 1.8437072323755048\n",
            "Added asteroid: (2025 BC), Orbital Period (years): 1.4573882987800566\n",
            "Added asteroid: (2025 BC), Orbital Period (years): 4.510366860059556\n",
            "Added asteroid: (2025 BC), Orbital Period (years): 1.2909756216316493\n",
            "Added asteroid: (2025 BC), Orbital Period (years): 1.0380905620940117\n",
            "Added asteroid: (2025 BC), Orbital Period (years): 1.3501324798463437\n",
            "Added asteroid: (2025 BC), Orbital Period (years): 2.057643805840247\n",
            "Added asteroid: (2025 BC), Orbital Period (years): 1.049311256811513\n",
            "Added asteroid: (2025 BC), Orbital Period (years): 1.0777923460306227\n",
            "Added asteroid: (2025 BC), Orbital Period (years): 1.3948710121614791\n",
            "Added asteroid: (2025 BC), Orbital Period (years): 3.5333010715660778\n",
            "Added asteroid: (2025 BC), Orbital Period (years): 2.7259965165782862\n",
            "Added asteroid: (2025 BC), Orbital Period (years): 3.8054878329008788\n",
            "Added asteroid: (2025 BC), Orbital Period (years): 1.9002656771298216\n",
            "Added asteroid: (2025 BC), Orbital Period (years): 1.4450276301609308\n",
            "Added asteroid: (2025 BC), Orbital Period (years): 2.6640295577877238\n",
            "Added asteroid: (2025 BC), Orbital Period (years): 1.3427564258118379\n",
            "Added asteroid: (2025 BC), Orbital Period (years): 2.0101925884254226\n",
            "Added asteroid: (2025 BC), Orbital Period (years): 0.741707420389501\n",
            "Added asteroid: (2025 BC), Orbital Period (years): 1.5249954693623449\n",
            "Added asteroid: (2025 BC), Orbital Period (years): 2.935935215558806\n",
            "Added asteroid: (2025 BC), Orbital Period (years): 1.5457623809180525\n",
            "Added asteroid: (2025 BC), Orbital Period (years): 1.4625914273909044\n",
            "Added asteroid: (2025 BC), Orbital Period (years): 0.9172181041639824\n",
            "Added asteroid: (2025 BC), Orbital Period (years): 1.3602376589477863\n",
            "Added asteroid: (2025 BC), Orbital Period (years): 1.084589869385096\n",
            "Added asteroid: (2025 BC), Orbital Period (years): 0.909967510033865\n",
            "Added asteroid: (2025 BC), Orbital Period (years): 2.324613078163338\n",
            "Added asteroid: (2025 BC), Orbital Period (years): 0.9548946421989849\n",
            "Added asteroid: (2025 BC), Orbital Period (years): 1.9713705003935966\n",
            "Added asteroid: (2025 BC), Orbital Period (years): 0.910699397107945\n",
            "Added asteroid: (2025 BC), Orbital Period (years): 0.9583710813998864\n",
            "Added asteroid: (2025 BC), Orbital Period (years): 1.0147907227111965\n",
            "Added asteroid: (2025 BC), Orbital Period (years): 0.8499305605870143\n",
            "Added asteroid: (2025 BC), Orbital Period (years): 1.0116176355351518\n",
            "Added asteroid: (2025 BC), Orbital Period (years): 1.0357347789712952\n",
            "Added asteroid: (2025 BC), Orbital Period (years): 1.8797560435316871\n",
            "Added asteroid: (2025 BC), Orbital Period (years): 4.687805307507275\n",
            "Added asteroid: (2025 BC), Orbital Period (years): 3.9345542205910173\n",
            "Added asteroid: (2025 BC), Orbital Period (years): 2.721234025995072\n",
            "Added asteroid: (2025 BC), Orbital Period (years): 1.8296881576364252\n",
            "Added asteroid: (2025 BC), Orbital Period (years): 1.6578188075298554\n",
            "Added asteroid: (2025 BC), Orbital Period (years): 4.498546810080088\n",
            "Added asteroid: (2025 BC), Orbital Period (years): 1.7745026673147835\n",
            "Added asteroid: (2025 BC), Orbital Period (years): 0.8467342668789999\n",
            "Added asteroid: (2025 BC), Orbital Period (years): 1.0069341040639719\n",
            "Added asteroid: (2025 BC), Orbital Period (years): 0.8021628218613743\n",
            "Added asteroid: (2025 BC), Orbital Period (years): 1.371308080059234\n",
            "Added asteroid: (2025 BC), Orbital Period (years): 1.3106924932978412\n",
            "Added asteroid: (2025 BC), Orbital Period (years): 2.9831387215163097\n",
            "Added asteroid: (2025 BC), Orbital Period (years): 0.9548816546559601\n",
            "Added asteroid: (2025 BC), Orbital Period (years): 1.7965677679072758\n",
            "Added asteroid: (2025 BC), Orbital Period (years): 1.6571869606413436\n",
            "Added asteroid: (2025 BC), Orbital Period (years): 3.282496989644038\n",
            "Added asteroid: (2025 BC), Orbital Period (years): 1.831055202632949\n",
            "Added asteroid: (2025 BC), Orbital Period (years): 0.9301627103921285\n"
          ]
        },
        {
          "output_type": "display_data",
          "data": {
            "text/plain": [
              "<Figure size 1000x600 with 1 Axes>"
            ],
            "image/png": "[encoded data removed]"
          },
          "metadata": {}
        }
      ]
    }
  ]
}