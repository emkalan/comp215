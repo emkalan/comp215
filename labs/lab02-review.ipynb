{
  "nbformat": 4,
  "nbformat_minor": 0,
  "metadata": {
    "kernelspec": {
      "display_name": "Python 3",
      "language": "python",
      "name": "python3"
    },
    "language_info": {
      "codemirror_mode": {
        "name": "ipython",
        "version": 2
      },
      "file_extension": ".py",
      "mimetype": "text/x-python",
      "name": "python",
      "nbconvert_exporter": "python",
      "pygments_lexer": "ipython2",
      "version": "2.7.6"
    },
    "colab": {
      "provenance": [],
      "include_colab_link": true
    }
  },
  "cells": [
    {
      "cell_type": "markdown",
      "metadata": {
        "id": "view-in-github",
        "colab_type": "text"
      },
      "source": [
        "<a href=\"https://colab.research.google.com/github/emkalan/comp215/blob/main/labs/lab02-review.ipynb\" target=\"_parent\"><img src=\"https://colab.research.google.com/assets/colab-badge.svg\" alt=\"Open In Colab\"/></a>"
      ]
    },
    {
      "cell_type": "markdown",
      "source": [
        "COMP 215 - LAB 2\n",
        "----------------\n",
        "#### Nam(s):\n",
        "#### Date:\n",
        "\n",
        "By the end of this lab you should be able to:\n",
        "  * use strings, tuples, lists, and dictionaries (review)\n",
        "  * use *f-string* to simplify string formatting operations\n",
        "  * write functions and simple unit tests (review)\n",
        "  * use *list comprehension* to implement map and filter algorithms\n",
        "\n",
        "\n",
        "During this lab, you will be introduced to the following:\n",
        "  * API Keys\n",
        "  * JSON data formats\n",
        "  * the `datetime` module to represent dates and times\n",
        "  * the `pprint` module to format data structures"
      ],
      "metadata": {
        "id": "nbRPZPKZU5Pk"
      }
    },
    {
      "cell_type": "markdown",
      "source": [
        "## Near Earth Objects\n",
        "\n",
        "In this lab, we'll answer some questions about [Near Earth Objects](https://cneos.jpl.nasa.gov/) using NASA's API:  [https://api.nasa.gov/](https://api.nasa.gov/#NeoWS).  But, as usual, let's do the imports first.\n"
      ],
      "metadata": {
        "id": "UtWS08rgocwz"
      }
    },
    {
      "cell_type": "code",
      "execution_count": null,
      "outputs": [],
      "source": [
        "import datetime, json, requests\n",
        "from pprint import pprint    # Pretty Print - built-in python function to nicely format data structures"
      ],
      "metadata": {
        "pycharm": {
          "name": "#%%\n"
        },
        "ExecuteTime": {
          "end_time": "2024-01-04T04:05:38.688434Z",
          "start_time": "2024-01-04T04:05:38.640552Z"
        },
        "id": "uckgiW6LmxA_"
      }
    },
    {
      "cell_type": "markdown",
      "source": [
        "### dates & f-strings\n",
        "\n",
        "First we need a short tutorial on python dates and [f-strings](https://realpython.com/python-f-strings/)..."
      ],
      "metadata": {
        "collapsed": false,
        "pycharm": {
          "name": "#%% md\n"
        },
        "id": "z7R9AVbYmxBA"
      }
    },
    {
      "cell_type": "code",
      "execution_count": null,
      "outputs": [
        {
          "output_type": "stream",
          "name": "stdout",
          "text": [
            "2025-01-13 <class 'datetime.date'>\n",
            "Today is: 2025-01-13\n"
          ]
        }
      ],
      "source": [
        "today = datetime.date.today()   # get a date object representing today's date\n",
        "print(today, type(today))\n",
        "formatted_date = f'Today is: {today}'   # A format string - notice how the variable `today` is formatted into the string\n",
        "print(formatted_date)"
      ],
      "metadata": {
        "pycharm": {
          "name": "#%%\n"
        },
        "ExecuteTime": {
          "end_time": "2024-01-04T04:05:38.691283Z",
          "start_time": "2024-01-04T04:05:38.688366Z"
        },
        "colab": {
          "base_uri": "https://localhost:8080/"
        },
        "id": "FIqwOe5SmxBA",
        "outputId": "f1d733fd-52d5-41b8-a0c8-bd65c46fc69c"
      }
    },
    {
      "cell_type": "markdown",
      "source": [
        "### Make an API Query\n",
        "\n",
        "Let's get some data from the NEO database; here's a query that gets the observation \"feed\" for today.  Notice the first line of the block is an 'API key'.  An API key is a unique identifier that authenticates a user when making a request to an API.  Run the block below using the API key 'DEMO_KEY' (just to be sure it works), then go to https://api.nasa.gov and get your own API key.  Use your own API key for the remainder of the lab."
      ],
      "metadata": {
        "collapsed": false,
        "pycharm": {
          "name": "#%% md\n"
        },
        "id": "NyY93KiOmxBB"
      }
    },
    {
      "cell_type": "code",
      "execution_count": null,
      "outputs": [
        {
          "output_type": "stream",
          "name": "stdout",
          "text": [
            "Requirement already satisfied: python-dotenv in /usr/local/lib/python3.10/dist-packages (1.0.1)\n",
            "API Key loaded successfully!\n",
            "17 Near Earth Objects found for 2025-01-13\n",
            "[{'absolute_magnitude_h': 16.48,\n",
            "  'close_approach_data': [{'close_approach_date': '2025-01-13',\n",
            "                           'close_approach_date_full': '2025-Jan-13 01:06',\n",
            "                           'epoch_date_close_approach': 1736730360000,\n",
            "                           'miss_distance': {'astronomical': '0.2580355174',\n",
            "                                             'kilometers': '38601563.787387938',\n",
            "                                             'lunar': '100.3758162686',\n",
            "                                             'miles': '23985899.4965440244'},\n",
            "                           'orbiting_body': 'Earth',\n",
            "                           'relative_velocity': {'kilometers_per_hour': '56146.0991462165',\n",
            "                                                 'kilometers_per_second': '15.5961386517',\n",
            "                                                 'miles_per_hour': '34887.0025500477'}}],\n",
            "  'estimated_diameter': {'feet': {'estimated_diameter_max': 9863.3633022049,\n",
            "                                  'estimated_diameter_min': 4411.0301661014},\n",
            "                         'kilometers': {'estimated_diameter_max': 3.0063530383,\n",
            "                                        'estimated_diameter_min': 1.3444819516},\n",
            "                         'meters': {'estimated_diameter_max': 3006.3530383087,\n",
            "                                    'estimated_diameter_min': 1344.4819516043},\n",
            "                         'miles': {'estimated_diameter_max': 1.8680605938,\n",
            "                                   'estimated_diameter_min': 0.8354220948}},\n",
            "  'id': '2418265',\n",
            "  'is_potentially_hazardous_asteroid': False,\n",
            "  'is_sentry_object': False,\n",
            "  'links': {'self': 'http://api.nasa.gov/neo/rest/v1/neo/2418265?api_key=eTmwtMM5Ayf8iWfkEeUhbVPyihLGW4wj9aIp6r8u'},\n",
            "  'name': '418265 (2008 EA32)',\n",
            "  'nasa_jpl_url': 'https://ssd.jpl.nasa.gov/tools/sbdb_lookup.html#/?sstr=2418265',\n",
            "  'neo_reference_id': '2418265'}]\n"
          ]
        }
      ],
      "source": [
        "!pip install python-dotenv\n",
        "from dotenv import load_dotenv\n",
        "import os\n",
        "\n",
        "load_dotenv('API_KEY.env')  # Load .env file\n",
        "API_KEY = os.getenv('API_KEY')\n",
        "\n",
        "if API_KEY:\n",
        "    print(\"API Key loaded successfully!\")\n",
        "else:\n",
        "    print(\"Failed to load API Key.\")\n",
        "\n",
        "\n",
        "# get today's date (as a string)\n",
        "today = str(datetime.date.today())\n",
        "\n",
        "# use an f-string to \"format\" the date and API key varaibles.\n",
        "url = f'https://api.nasa.gov/neo/rest/v1/feed?start_date={today}&end_date={today}&api_key={API_KEY}'\n",
        "\n",
        "# make the API request (recall from lab 1)\n",
        "response = requests.request(\"GET\", url, headers={}, data={})\n",
        "\n",
        "# convert the response to json format (recall from lab 1)\n",
        "data = json.loads(response.text)\n",
        "\n",
        "# TIP: print(data) to see the whole data structure returned, here we grab just the list of NEO's:\n",
        "n_results = data['element_count']\n",
        "neos = data['near_earth_objects'][today]\n",
        "print(f'{n_results} Near Earth Objects found for {today}')\n",
        "pprint(neos[:1])"
      ],
      "metadata": {
        "collapsed": true,
        "pycharm": {
          "name": "#%%\n"
        },
        "ExecuteTime": {
          "end_time": "2024-01-04T04:05:43.064157Z",
          "start_time": "2024-01-04T04:05:38.691252Z"
        },
        "id": "vZYx2VfXmxBB",
        "colab": {
          "base_uri": "https://localhost:8080/"
        },
        "outputId": "4ef2ea95-519d-4da1-ab4c-3c9fd2fa743f"
      }
    },
    {
      "cell_type": "markdown",
      "source": [
        "Next we extract just the potentially hazerdous asteroids, using a Comp115-style list accumulator *loop*:"
      ],
      "metadata": {
        "collapsed": false,
        "pycharm": {
          "name": "#%% md\n"
        },
        "id": "g7VOkS2PmxBB"
      }
    },
    {
      "cell_type": "code",
      "execution_count": null,
      "metadata": {
        "id": "JDGbYTySU3BP",
        "ExecuteTime": {
          "end_time": "2024-01-04T04:05:43.065108Z",
          "start_time": "2024-01-04T04:05:43.062239Z"
        },
        "colab": {
          "base_uri": "https://localhost:8080/"
        },
        "outputId": "3f36e614-fe0c-46fc-89f9-4f1caaaa52ec"
      },
      "outputs": [
        {
          "output_type": "stream",
          "name": "stdout",
          "text": [
            "0 potentially hazardous asteroids identified.\n"
          ]
        }
      ],
      "source": [
        "hazards =  []\n",
        "for item in neos:\n",
        "  if item['is_potentially_hazardous_asteroid'] is True:\n",
        "    hazards.append(item)\n",
        "print(f'{len(hazards)} potentially hazardous asteroids identified.')"
      ]
    },
    {
      "cell_type": "markdown",
      "source": [
        "### Fetch Complete Data for One Asteroid\n",
        "\n",
        "Notice that the record for each `neo` is a dictionary with `id` field that uniquely identifies this record in the database.  We can use this `id` to fetch complete orbital and close approach data for the NEO.  For example, this query fetches the complete data set for the first hazardous asteroid...  Notice that the `miss_distance` field contains the distance (in various units) by which the NEO missed an \"orbiting body\".\n"
      ],
      "metadata": {
        "collapsed": false,
        "pycharm": {
          "name": "#%% md\n"
        },
        "id": "Um5gAiVTmxBC"
      }
    },
    {
      "cell_type": "code",
      "execution_count": null,
      "outputs": [
        {
          "output_type": "stream",
          "name": "stdout",
          "text": [
            "No hazardous asteroids found\n"
          ]
        }
      ],
      "source": [
        "if hazards:\n",
        "  id = hazards[0]['id']\n",
        "  url = f'https://api.nasa.gov/neo/rest/v1/neo/{id}?api_key={API_KEY}'\n",
        "  response = requests.request(\"GET\", url, headers={}, data={})\n",
        "  data = json.loads(response.text)\n",
        "  pprint(data)\n",
        "else:\n",
        "  print('No hazardous asteroids found')"
      ],
      "metadata": {
        "collapsed": true,
        "pycharm": {
          "name": "#%%\n"
        },
        "ExecuteTime": {
          "end_time": "2024-01-04T04:05:43.787125Z",
          "start_time": "2024-01-04T04:05:43.067936Z"
        },
        "id": "NVRl3l7EmxBC",
        "colab": {
          "base_uri": "https://localhost:8080/"
        },
        "outputId": "8c069eec-ae2d-4ab5-fef0-5354359ace57"
      }
    },
    {
      "cell_type": "markdown",
      "source": [
        "## Exercise 1\n",
        "\n",
        "In the code cell below, **re-write the accumulator loop** that creates the list of hazards as a [list comprehension](https://realpython.com/lessons/list-comprehensions-overview/) that implements a [\"filter\"](https://youtu.be/hUes6y2b--0)\n",
        "Notice how this provides a concise way to \"filter\" items of interest from a larger data set."
      ],
      "metadata": {
        "collapsed": false,
        "pycharm": {
          "name": "#%% md\n"
        },
        "id": "93ns5r8gmxBB"
      }
    },
    {
      "cell_type": "code",
      "execution_count": null,
      "outputs": [
        {
          "output_type": "stream",
          "name": "stdout",
          "text": [
            "0 potentially hazardous asteroids identified.\n"
          ]
        }
      ],
      "source": [
        "# Ex. 1 your code here\n",
        "hazards = [item for item in neos if item['is_potentially_hazardous_asteroid'] is True]\n",
        "print(f'{len(hazards)} potentially hazardous asteroids identified.')"
      ],
      "metadata": {
        "pycharm": {
          "name": "#%%\n"
        },
        "ExecuteTime": {
          "end_time": "2024-01-04T04:05:43.069849Z",
          "start_time": "2024-01-04T04:05:43.065922Z"
        },
        "id": "ewkwkc8wmxBB",
        "colab": {
          "base_uri": "https://localhost:8080/"
        },
        "outputId": "df303f6a-ed93-4fc2-cc0f-158fff7e0e3d"
      }
    },
    {
      "cell_type": "markdown",
      "source": [
        "\n",
        "\n",
        "## Exercise 2\n",
        "\n",
        "In the code cell below, write a python function that takes a list of \"close approach data\" as a parameter,\n",
        "and returns a 2-tuple with the (date, miss km) of the closest approach to Earth in the list (where \"miss km\" is the miss distance in km).\n",
        "\n",
        "Hints:\n",
        "* notice the input is a list of dictionaries.  Each dictionary has a 'close_approach_date\", \"orbiting_body\", and 'miss_distance' field.\n",
        "* we are only interested in the closest approach to \"Earth\"\n",
        "* use a loop if that is easier to understand - we will look at more compact algorithms to solve this problem in class.\n",
        "\n",
        "Add at least one unit test to check your work - note the test data only needs dictionaries with the fields your function actually uses.\n"
      ],
      "metadata": {
        "id": "DNRs7ynOYwYk"
      }
    },
    {
      "cell_type": "code",
      "source": [
        "# Ex. 2 your code here\n",
        "def closest_approach_to_earth(data):\n",
        "    \"\"\"\n",
        "    Find the closest approach to Earth from a list of close approach data.\n",
        "\n",
        "    Parameters:\n",
        "        data (list): A list of dictionaries, each containing:\n",
        "            - 'close_approach_date' (str): The date of the close approach.\n",
        "            - 'orbiting_body' (str): The celestial body being orbited.\n",
        "            - 'miss_distance' (dict): A dictionary with keys like 'kilometers'.\n",
        "\n",
        "    Returns:\n",
        "        tuple: A 2-tuple (date, miss_km) of the closest approach to Earth.\n",
        "    \"\"\"\n",
        "    closest_date = None\n",
        "    closest_miss_distance = float('inf')\n",
        "\n",
        "    for entry in data:\n",
        "        if entry['orbiting_body'] == 'Earth':\n",
        "            miss_km = float(entry['miss_distance']['kilometers'])\n",
        "            if miss_km < closest_miss_distance:\n",
        "                closest_miss_distance = miss_km\n",
        "                closest_date = entry['close_approach_date']\n",
        "\n",
        "    return closest_date, closest_miss_distance\n",
        "\n",
        "# Unit Test\n",
        "def test_closest_approach_to_earth():\n",
        "  \"\"\" Simple unit test for the closest_approach_to_earth function. \"\"\"\n",
        "    test_data = [\n",
        "        {\n",
        "            'close_approach_date': '2025-01-01',\n",
        "            'orbiting_body': 'Earth',\n",
        "            'miss_distance': {'kilometers': '1000000'}\n",
        "        },\n",
        "        {\n",
        "            'close_approach_date': '2025-01-05',\n",
        "            'orbiting_body': 'Earth',\n",
        "            'miss_distance': {'kilometers': '750000'}\n",
        "        },\n",
        "        {\n",
        "            'close_approach_date': '2025-01-03',\n",
        "            'orbiting_body': 'Mars',\n",
        "            'miss_distance': {'kilometers': '500000'}\n",
        "        },\n",
        "        {\n",
        "            'close_approach_date': '2025-01-10',\n",
        "            'orbiting_body': 'Earth',\n",
        "            'miss_distance': {'kilometers': '2000000'}\n",
        "        }\n",
        "    ]\n",
        "\n",
        "    result = closest_approach_to_earth(test_data)\n",
        "    assert result == ('2025-01-05', 750000.0), f\"Unexpected result: {result}\"\n",
        "\n",
        "test_closest_approach_to_earth()\n"
      ],
      "metadata": {
        "id": "tiyXTDfnZAd0",
        "ExecuteTime": {
          "end_time": "2024-01-04T04:05:43.790535Z",
          "start_time": "2024-01-04T04:05:43.787064Z"
        }
      },
      "execution_count": null,
      "outputs": []
    },
    {
      "cell_type": "markdown",
      "source": [
        "## Challenge Exercise\n",
        "\n",
        "In the code cell below, write a complete program that:\n",
        " 1. fetches the list of NEO's for this week.\n",
        " 2. for each NEO, fetch it's complete orbital data and determine its closest approach to Earth\n",
        " 3. identify which NEO from this week's data makes the closet approach to earth\n",
        " 4. print a nice message with information about the NEO, which it will approach the Earth, and how close it will come.\n",
        "\n",
        "Hints:\n",
        "* you'll need the start and end date - end date is today, see if you can use a [`timedelta`](https://docs.python.org/3/library/datetime.html#timedelta-objects) object to ge the start date (you can do basic \"date math\" with `timedelta` and `date` objects!)\n",
        "* you may need to modify the function we wrote in Ex. 2 to return a triple with the NEO's id included;\n",
        "* lots of opportunity here for more practice with list comprehensions\n"
      ],
      "metadata": {
        "collapsed": false,
        "id": "BrVVSFCnmxBC"
      }
    },
    {
      "cell_type": "code",
      "source": [
        "import requests\n",
        "from datetime import date, timedelta\n",
        "\n",
        "BASE_URL = \"https://api.nasa.gov/neo/rest/v1\"\n",
        "\n",
        "def fetch_neo_list():\n",
        "  \"\"\"Fetches the list of NEO's for this week.\"\"\"\n",
        "    end_date = date.today()\n",
        "    start_date = end_date - timedelta(days=7)\n",
        "    url = f\"{BASE_URL}/feed?start_date={start_date}&end_date={end_date}&api_key={API_KEY}\"\n",
        "\n",
        "    response = requests.get(url)\n",
        "    response.raise_for_status()\n",
        "    data = response.json()\n",
        "    return data[\"near_earth_objects\"]\n",
        "\n",
        "def find_closest_approach(neo_data):\n",
        "  \"\"\"Finds the closest NEO from this week's data.\"\"\"\n",
        "    today_str = str(date.today())\n",
        "    closest_neo = min(\n",
        "        [\n",
        "            {\n",
        "                \"name\": neo[\"name\"],\n",
        "                \"date\": approach[\"close_approach_date\"],\n",
        "                \"distance_km\": float(approach[\"miss_distance\"][\"kilometers\"]),\n",
        "            }\n",
        "            for date_key, neos in neo_data.items()\n",
        "            for neo in neos\n",
        "            for approach in neo[\"close_approach_data\"]\n",
        "            if approach[\"close_approach_date\"] >= today_str\n",
        "        ],\n",
        "        key=lambda x: x[\"distance_km\"],\n",
        "        default=None\n",
        "    )\n",
        "    return closest_neo\n",
        "\n",
        "def main():\n",
        "    try:\n",
        "        neo_data = fetch_neo_list()\n",
        "        closest_neo = find_closest_approach(neo_data)\n",
        "\n",
        "        if closest_neo:\n",
        "            print(f\"The closest NEO this week is '{closest_neo['name']}'.\")\n",
        "            print(f\"It will approach Earth on {closest_neo['date']},\")\n",
        "            print(f\"coming as close as {closest_neo['distance_km']:.2f} kilometers. Groovy!\")\n",
        "        else:\n",
        "            print(\"No close approaches found for this week.\")\n",
        "\n",
        "    except requests.exceptions.RequestException as e:\n",
        "        print(f\"Error fetching data: {e}\") # THIS ONE WAS REALLY IMPORTANT  turns out you REALLY need list comprehension. i kept getting too many requests errors. 429 eror.\n",
        "\n",
        "if __name__ == \"__main__\":\n",
        "    main()\n"
      ],
      "metadata": {
        "id": "gbHPsOfj572H",
        "outputId": "b5f5d939-8e63-4fe0-b3a6-ed4b9e4433cb",
        "colab": {
          "base_uri": "https://localhost:8080/"
        }
      },
      "execution_count": null,
      "outputs": [
        {
          "output_type": "stream",
          "name": "stdout",
          "text": [
            "The closest NEO this week is '(2025 AX2)'.\n",
            "It will approach Earth on 2025-01-13,\n",
            "coming as close as 3151350.09 kilometers. Groovy!\n"
          ]
        }
      ]
    }
  ]
}