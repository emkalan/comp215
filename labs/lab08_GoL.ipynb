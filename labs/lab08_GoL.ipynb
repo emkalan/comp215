{
  "cells": [
    {
      "cell_type": "markdown",
      "metadata": {
        "id": "view-in-github",
        "colab_type": "text"
      },
      "source": [
        "<a href=\"https://colab.research.google.com/github/emkalan/comp215/blob/main/labs/lab08_GoL.ipynb\" target=\"_parent\"><img src=\"https://colab.research.google.com/assets/colab-badge.svg\" alt=\"Open In Colab\"/></a>"
      ]
    },
    {
      "cell_type": "markdown",
      "metadata": {
        "collapsed": true,
        "pycharm": {
          "name": "#%% md\n"
        },
        "id": "JR_9eeigl5Vi"
      },
      "source": [
        "COMP 215 - LAB 6 (Game of Life)\n",
        "-----------------------------------------------\n",
        "#### Name:\n",
        "#### Date:\n",
        "\n",
        "This lab exercise is an introduction to [Conway's Game of Life](https://en.wikipedia.org/wiki/Conway%27s_Game_of_Life) discovered and studied by [John Conway](https://en.wikipedia.org/wiki/John_Horton_Conway).\n",
        "\n",
        "**New Python concepts**:\n",
        "   * 2D numpy [array](https://numpy.org/doc/stable/reference/generated/numpy.array.html)\n",
        "   * basic [array operations](https://www.pluralsight.com/guides/overview-basic-numpy-operations)\n",
        "\n",
        "**New Computation concepts**:\n",
        "   * [2D sliding dot product](https://docs.scipy.org/doc/scipy/reference/generated/scipy.signal.correlate2d.html)\n",
        "   * [Animation](https://matplotlib.org/stable/api/animation_api.html)\n",
        "\n",
        "**Credits**:\n",
        "    Code examples based on [Think Complexity, 2nd edition](https://thinkcomplex.com).\n",
        "    Copyright 2016 Allen Downey, [MIT License](http://opensource.org/licenses/MIT)\n",
        "\n",
        "As usual, the first code cell simply imports all the modules we'll be using..."
      ]
    },
    {
      "cell_type": "code",
      "execution_count": 1,
      "outputs": [],
      "source": [
        "import time\n",
        "import matplotlib\n",
        "import matplotlib.pyplot as plt\n",
        "from matplotlib import animation\n",
        "import numpy as np\n",
        "from scipy.signal import correlate2d\n",
        "\n",
        "%matplotlib inline\n",
        "# Configure matplotlib's animation library to work in the browser.\n",
        "matplotlib.rc('animation', html='jshtml')"
      ],
      "metadata": {
        "pycharm": {
          "name": "#%%\n"
        },
        "ExecuteTime": {
          "end_time": "2024-01-06T00:59:30.713969Z",
          "start_time": "2024-01-06T00:59:29.426998Z"
        },
        "id": "aXEYCXADl5Vj"
      }
    },
    {
      "cell_type": "markdown",
      "source": [
        "A reusable function for plotting 2D numpy.array as an image..."
      ],
      "metadata": {
        "collapsed": false,
        "pycharm": {
          "name": "#%% md\n"
        },
        "id": "Vhcz38ROl5Vj"
      }
    },
    {
      "cell_type": "code",
      "execution_count": 2,
      "outputs": [],
      "source": [
        "def plot_2d_array(array, axes=None, title='', cmap='Blues', **options):\n",
        "    \"\"\"\n",
        "    Plot the 2D array as an image on the given axes  1's will be dark blue, 0's will be light blue.\n",
        "\n",
        "    :param axes: the axes to plot on, or None to use the `plt.gca()` (current axes)\n",
        "    :param options: keyword arguments passed directly to `plt.imshow()`\n",
        "           see https://matplotlib.org/stable/api/_as_gen/matplotlib.axes.Axes.imshow.html\n",
        "    \"\"\"\n",
        "    axes = axes or plt.gca()  # If not axes are provided, draw on current axes\n",
        "    axes.set_title(title)\n",
        "    # Turn off axes labels and tick marks\n",
        "    axes.tick_params(axis='both', which='both', bottom=False, top=False, left=False, right=False ,\n",
        "                     labelbottom=False, labeltop=False, labelleft=False, labelright=False,)\n",
        "    # Defaults for displaying a \"matrix\" with hard-pixel boundaries and (0,0) at top-left\n",
        "    options = {**dict(interpolation='nearest', origin='upper'), **options}\n",
        "    axes.imshow(array, cmap=cmap, **options)"
      ],
      "metadata": {
        "pycharm": {
          "name": "#%%\n"
        },
        "ExecuteTime": {
          "end_time": "2024-01-06T00:59:30.719129Z",
          "start_time": "2024-01-06T00:59:30.716251Z"
        },
        "id": "wehF3xozl5Vk"
      }
    },
    {
      "cell_type": "markdown",
      "source": [
        "## Life Fundamentals\n",
        "Both the textbook and our week6 notebooks develop some fundamental operations for simulating the Game of Life.\n",
        "Some of the code from `week6.ipynb` is reproduced here without deriving all the ideas - review `week6.ipynb` notebook for the full story.\n",
        "The sliding dot product algorithm in `step` is implemented with [scipy.signal.correlate2d](https://docs.scipy.org/doc/scipy/reference/generated/scipy.signal.correlate2d.html).  It's behaviour is identical to the derivation in `week6.ipynb`.\n",
        "\n",
        "#### Notes\n",
        "* we use `correlate2d(state, kernel, mode='same', boundary='wrap')` to pad state matrix with 1 value around perimeter from the opposite side of the matrix.\n",
        "* since the rule is a 1D `np.array`, we use \"vector indexing\" here to set the 'live' state transitions:  `next_state[[3, 12, 13]] = 1`"
      ],
      "metadata": {
        "collapsed": false,
        "pycharm": {
          "name": "#%% md\n"
        },
        "id": "HEq73Cb4l5Vk"
      }
    },
    {
      "cell_type": "code",
      "execution_count": 3,
      "outputs": [],
      "source": [
        "class Life2D:\n",
        "    \"\"\" An basic 2D Cellular Automata that implementes Conway's Game of Life \"\"\"\n",
        "    kernel = np.array([[1, 1, 1],\n",
        "                       [1, 10, 1],\n",
        "                       [1, 1, 1]])\n",
        "\n",
        "    next_state = np.zeros(19, dtype=np.uint8)\n",
        "    next_state[[3, 12, 13]] = 1\n",
        "\n",
        "    def __init__(self, n_rows, n_cols=None):\n",
        "        \"\"\" Construct a n_rows x n_cols 2D CA \"\"\"\n",
        "        n_cols = n_cols or n_rows  # i.e., n_cols if n_cols is not None and n_cols != 0 else n_rows\n",
        "        self.state = np.zeros(shape=(n_rows, n_cols), dtype=np.uint8)\n",
        "\n",
        "    def step(self):\n",
        "        \"\"\"Executes one time step. \"\"\"\n",
        "        transitions = correlate2d(self.state, self.kernel, mode='same', boundary='wrap')\n",
        "        self.state = self.next_state[transitions]\n",
        "\n",
        "    def draw(self, axes=None, step=''):\n",
        "        axes = axes or plt.gca()   # use pyplot's current axes if none are provided.\n",
        "        plot_2d_array(self.state, axes, title=f\"Conway's Game of Life {step}\")"
      ],
      "metadata": {
        "pycharm": {
          "name": "#%%\n"
        },
        "ExecuteTime": {
          "end_time": "2024-01-06T00:59:30.722229Z",
          "start_time": "2024-01-06T00:59:30.719978Z"
        },
        "id": "ds9nXQUGl5Vk"
      }
    },
    {
      "cell_type": "markdown",
      "source": [
        "### Visualizing a 2D simulation model\n",
        "For 1D CAs, we could use a 2D image to visualize the CA progression over time.\n",
        "For 2D CAs, we could try using time as a 3rd axis to generate a 3D visualziation, but without VR, its hard to explore a 3D visualization.\n",
        "Instead, we'll use a simple 2D [\"stop motion\" animation](https://en.wikipedia.org/wiki/Animation).\n",
        "Here is a generic class that animates any 2D model that provides step() and draw() methods, and uses matplotlib to render its state.\n",
        "\n",
        "See [Matplotlib animation in Jupyter](https://www.allendowney.com/blog/2019/07/25/matplotlib-animation-in-jupyter/) by our textbook author for a discussion of the pros and cons of various animation techniques in jupyter notebooks."
      ],
      "metadata": {
        "collapsed": false,
        "pycharm": {
          "name": "#%% md\n"
        },
        "id": "eMcxFzLll5Vk"
      }
    },
    {
      "cell_type": "code",
      "execution_count": 46,
      "outputs": [],
      "source": [
        "class Animation2D:\n",
        "    \"\"\"\n",
        "      Animates any 2D model with a step() method and a draw() method, using matplotlib\n",
        "      model.step() should take no parameters - just step the model forward one step.\n",
        "      model.draw() should take 2 parameters, the matpltolib axes to draw on and an integer step number\n",
        "    \"\"\"\n",
        "\n",
        "    def __init__(self, model, frames=50, figsize=(8, 8)):\n",
        "        \"\"\"\n",
        "        :param model: the simulation object to animate, with step() and draw(axes, step) methods\n",
        "        :param frames: number of animation frames to generate\n",
        "        \"\"\"\n",
        "        self.model = model\n",
        "        self.frames = frames\n",
        "        self.fig, self.ax = plt.subplots(figsize=figsize)\n",
        "\n",
        "    def animation_step(self, step):\n",
        "        \"\"\" Step the model forward and draw the plot \"\"\"\n",
        "        if step > 0:\n",
        "            self.model.step()\n",
        "        self.model.draw(self.ax, step=step)\n",
        "\n",
        "    def show(self):\n",
        "        \"\"\" return the matplotlib animation object, ready for display \"\"\"\n",
        "        anim = animation.FuncAnimation(self.fig, self.animation_step, frames=self.frames)\n",
        "        plt.close()  # this ensures the last frame is not shown as a separate plot\n",
        "        return anim\n",
        "\n",
        "    def animate(self, interval=None):\n",
        "        \"\"\" Animate the model simulation directly in the notebook display block \"\"\"\n",
        "        from IPython.display import clear_output\n",
        "        try:\n",
        "            for i in range(self.frames):\n",
        "                clear_output(wait=True)  # clear the IPython display\n",
        "                self.ax.clear()          # clear old image from the axes (fixes a performance issue)\n",
        "                plt.figure(self.fig)     # add the figure back to pyplot ** sigh **\n",
        "                self.animation_step(i)\n",
        "                plt.show(block=True)               # show the current animation frame (pyplot then closes and throws away figure ** sigh **)\n",
        "                if interval:\n",
        "                    time.sleep(interval)\n",
        "        except KeyboardInterrupt:\n",
        "            pass"
      ],
      "metadata": {
        "pycharm": {
          "name": "#%%\n"
        },
        "ExecuteTime": {
          "end_time": "2024-01-06T00:59:30.727443Z",
          "start_time": "2024-01-06T00:59:30.724530Z"
        },
        "id": "z4-HGpu_l5Vk"
      }
    },
    {
      "cell_type": "markdown",
      "source": [
        "### Sample usage\n",
        "Animate a single glider..."
      ],
      "metadata": {
        "collapsed": false,
        "pycharm": {
          "name": "#%% md\n"
        },
        "id": "_M9D2Ms7l5Vk"
      }
    },
    {
      "cell_type": "code",
      "execution_count": 6,
      "outputs": [
        {
          "output_type": "display_data",
          "data": {
            "text/plain": [
              "<Figure size 800x800 with 1 Axes>"
            ],
            "image/png": "[encoded data removed]"
          },
          "metadata": {}
        }
      ],
      "source": [
        "size = 10\n",
        "life = Life2D(size)\n",
        "glider = np.array([[0, 1, 0], [0, 0, 1], [1, 1, 1]], dtype=np.uint8)\n",
        "life.state[1:4, 2:5] = glider             # bad idea to alter an objects state directly!  We'll improve it in Ex. 3\n",
        "gol = Animation2D(life, frames=20)\n",
        "gol.animate()"
      ],
      "metadata": {
        "pycharm": {
          "name": "#%%\n"
        },
        "id": "IPx3yfAVl5Vl",
        "outputId": "f4362f8e-9262-414f-c95b-6ddcd4577d7a",
        "colab": {
          "base_uri": "https://localhost:8080/",
          "height": 675
        }
      }
    },
    {
      "cell_type": "markdown",
      "source": [
        "## Exercise 1:  Enumerate all Elementary 2D CA's\n",
        "Write a line or 2 of code to compute and print the answer for each question:\n",
        "* how many unique states are there for a 3x3 (9 cell) neighbourhood?\n",
        "* how many unique “rules” are there? (where a rule provides a mapping for each possible neighbourhood state to the output for the centre cell)\n",
        "* how does this number compare, for example, to the [number of atoms in the observable universe?](https://en.wikipedia.org/wiki/Observable_universe#Matter_content%E2%80%94number_of_atoms)"
      ],
      "metadata": {
        "collapsed": false,
        "id": "EGnc-wRJl5Vl"
      }
    },
    {
      "cell_type": "code",
      "execution_count": 7,
      "outputs": [
        {
          "output_type": "stream",
          "name": "stdout",
          "text": [
            "Unique states: 512\n",
            "Unique rules: 13407807929942597099574024998205846127479365820592393377723561443721764030073546976801874298166903427690031858186486050853753882811946569946433649006084096\n",
            "Unique rules are much larger than the estimated number of atoms in the universe: True\n"
          ]
        }
      ],
      "source": [
        "# Ex. 1 your code here...\n",
        "\n",
        "unique_states = 2**9\n",
        "print(f\"Unique states: {unique_states}\")\n",
        "unique_rules = 2**unique_states\n",
        "print(f\"Unique rules: {unique_rules}\")\n",
        "atoms_in_universe = 10**80\n",
        "print(f\"Unique rules are much larger than the estimated number of atoms in the universe: {unique_rules > atoms_in_universe}\")"
      ],
      "metadata": {
        "pycharm": {
          "name": "#%%\n"
        },
        "ExecuteTime": {
          "end_time": "2024-01-06T00:59:32.380370Z",
          "start_time": "2024-01-06T00:59:32.378662Z"
        },
        "id": "C5Vg1SV_l5Vl",
        "colab": {
          "base_uri": "https://localhost:8080/"
        },
        "outputId": "7af1afc5-423a-4e7b-d98f-4b76626f455c"
      }
    },
    {
      "cell_type": "markdown",
      "source": [
        "Using what you learned above, concisely answer each question below (point form)1\n",
        "1. would it be a reasonable goal to conduct an experiment like Wolfram’s for 2D CA’s?\n",
        "2. propose a numbering scheme for these rules, analogous to Wolfram’s rule numbers\n",
        "3. how might we go about determining which rule number corresponds to Conway’s GoL?\n",
        "   (I’m not asking for the number, but rather for a method you could use to find it.)"
      ],
      "metadata": {
        "collapsed": false,
        "pycharm": {
          "name": "#%% md\n"
        },
        "id": "2SHEsEhql5Vl"
      }
    },
    {
      "cell_type": "markdown",
      "source": [
        "#### Ex 1. Your Answers\n",
        "\n",
        "1. No sorry. there are way too many.\n",
        "2. Um... do each rule as a binary number where each bit corresponds to the output for a specific neighbourhood state\n",
        "3. first ... generate all 512 possible 3x3 neighbourhood configs\n",
        "then ... determine the next state of the center cell based on Conway GoL rules\n",
        "then ... create a binary number where each bit represents the output for a corresponding state\n",
        "then you can get the corresponding decimal number."
      ],
      "metadata": {
        "collapsed": false,
        "id": "l90cNuZrl5Vl"
      }
    },
    {
      "cell_type": "markdown",
      "source": [
        "## Exercise 2: random_life\n",
        "Extend the Life2D class defined above to allow the game to be initialized with a random start state.\n",
        "The liklihood of any given cell being initialized to \"alive\" is given by $p$.\n",
        "*Hint*: we did this exact exercise for a 1D array in previous lab"
      ],
      "metadata": {
        "collapsed": false,
        "pycharm": {
          "name": "#%% md\n"
        },
        "id": "-P8e_MVIl5Vl"
      }
    },
    {
      "cell_type": "code",
      "execution_count": 44,
      "outputs": [],
      "source": [
        "# Ex. 2 experimental setup\n",
        "\n",
        "class BetterLife2D(Life2D):\n",
        "    \"\"\" Improvements on the basic Life2D model \"\"\"\n",
        "    def __init__(self, n_rows, n_cols=None):\n",
        "        \"\"\" Construct a n_rows x n_cols 2D CA \"\"\"\n",
        "        super().__init__(n_rows, n_cols)\n",
        "        self.randomize_state(0.5)\n",
        "        self.draw()\n",
        "    def step(self):\n",
        "        \"\"\"Executes one time step. \"\"\"\n",
        "        transitions = correlate2d(self.state, self.kernel, mode='same', boundary='wrap')\n",
        "        self.state = self.next_state[transitions]\n",
        "        #self.draw()\n",
        "    def draw(self, axes=None, step=''):\n",
        "        axes = axes or plt.gca()   # use pyplot's current axes if none are provided.\n",
        "        plot_2d_array(self.state, axes, title=f\"Conway's Game of Life {step}\")\n",
        "    def randomize_state(self, p):\n",
        "        \"\"\" Randomize the state of this GoL, where probability of a \"live\" cell is p \"\"\"\n",
        "        # Ex. 2 your code here...\n",
        "        self.state = np.random.choice([0, 1], size=self.state.shape, p=[1-p, p])\n",
        "        self.draw()\n",
        "    def load_pattern(self, x, y, pattern):\n",
        "        \"\"\"\n",
        "        Loads a pattern into the Life state array at the specified coordinates.\n",
        "\n",
        "        Args:\n",
        "            x: The x-coordinate of the top-left corner of the pattern.\n",
        "            y: The y-coordinate of the top-left corner of the pattern.\n",
        "            pattern: The 2D numpy array representing the pattern.\n",
        "        \"\"\"\n",
        "        pattern_height, pattern_width = pattern.shape\n",
        "        self.state[x:x + pattern_height, y:y + pattern_width] = pattern\n",
        "\n",
        "def random_life(n_rows, n_cols=None, p=0.5):\n",
        "    \"\"\" Return a Life2D object of given dimensions with initial randomized state where \"live\" cells have probability p \"\"\"\n",
        "    # Ex. 2 your code here...\n",
        "    return BetterLife2D(n_rows, n_cols)\n"
      ],
      "metadata": {
        "pycharm": {
          "name": "#%%\n"
        },
        "ExecuteTime": {
          "end_time": "2024-01-06T00:59:32.383669Z",
          "start_time": "2024-01-06T00:59:32.381110Z"
        },
        "id": "w4cpfDudl5Vl"
      }
    },
    {
      "cell_type": "markdown",
      "source": [
        "### Experiment\n",
        "Run a small experiment to see if you can identify any relationship between $p$, the probability of a live cell in the initial grid, and the time it takes for the GoL pattern to stabilize."
      ],
      "metadata": {
        "collapsed": false,
        "pycharm": {
          "name": "#%% md\n"
        },
        "id": "Zt5mQ0PVl5Vl"
      }
    },
    {
      "cell_type": "code",
      "execution_count": 51,
      "outputs": [
        {
          "output_type": "stream",
          "name": "stdout",
          "text": [
            "Starting experiment...\n",
            "Running run_experiment...\n",
            "  Processing p = 0.1 (p_index = 0)\n",
            "    Running trial 1 of 20\n",
            "      Stabilized at step 190 (matched state 10 steps back)\n",
            "    Running trial 2 of 20\n",
            "      Stabilized at step 419 (matched state 10 steps back)\n",
            "    Running trial 3 of 20\n",
            "      Stabilized at step 192 (matched state 9 steps back)\n",
            "    Running trial 4 of 20\n",
            "      Stabilized at step 233 (matched state 10 steps back)\n",
            "    Running trial 5 of 20\n",
            "      Stabilized at step 120 (matched state 10 steps back)\n",
            "    Running trial 6 of 20\n",
            "      Stabilized at step 465 (matched state 10 steps back)\n",
            "    Running trial 7 of 20\n",
            "      Stabilized at step 174 (matched state 10 steps back)\n",
            "    Running trial 8 of 20\n",
            "      Stabilized at step 112 (matched state 9 steps back)\n",
            "    Running trial 9 of 20\n",
            "      Stabilized at step 150 (matched state 10 steps back)\n",
            "    Running trial 10 of 20\n",
            "      Stabilized at step 112 (matched state 10 steps back)\n",
            "    Running trial 11 of 20\n",
            "      Stabilized at step 356 (matched state 10 steps back)\n",
            "    Running trial 12 of 20\n",
            "      Stabilized at step 72 (matched state 10 steps back)\n",
            "    Running trial 13 of 20\n",
            "      Stabilized at step 93 (matched state 9 steps back)\n",
            "    Running trial 14 of 20\n",
            "    Running trial 15 of 20\n",
            "      Stabilized at step 80 (matched state 10 steps back)\n",
            "    Running trial 16 of 20\n",
            "      Stabilized at step 410 (matched state 10 steps back)\n",
            "    Running trial 17 of 20\n",
            "      Stabilized at step 176 (matched state 10 steps back)\n",
            "    Running trial 18 of 20\n",
            "      Stabilized at step 170 (matched state 9 steps back)\n",
            "    Running trial 19 of 20\n",
            "      Stabilized at step 26 (matched state 9 steps back)\n",
            "    Running trial 20 of 20\n",
            "      Stabilized at step 340 (matched state 10 steps back)\n",
            "  Processing p = 0.3 (p_index = 1)\n",
            "    Running trial 1 of 20\n",
            "      Stabilized at step 246 (matched state 10 steps back)\n",
            "    Running trial 2 of 20\n",
            "      Stabilized at step 100 (matched state 10 steps back)\n",
            "    Running trial 3 of 20\n",
            "      Stabilized at step 365 (matched state 9 steps back)\n",
            "    Running trial 4 of 20\n",
            "      Stabilized at step 119 (matched state 9 steps back)\n",
            "    Running trial 5 of 20\n",
            "      Stabilized at step 57 (matched state 10 steps back)\n",
            "    Running trial 6 of 20\n",
            "      Stabilized at step 84 (matched state 10 steps back)\n",
            "    Running trial 7 of 20\n",
            "      Stabilized at step 43 (matched state 9 steps back)\n",
            "    Running trial 8 of 20\n",
            "      Stabilized at step 71 (matched state 10 steps back)\n",
            "    Running trial 9 of 20\n",
            "      Stabilized at step 297 (matched state 9 steps back)\n",
            "    Running trial 10 of 20\n",
            "      Stabilized at step 131 (matched state 9 steps back)\n",
            "    Running trial 11 of 20\n",
            "      Stabilized at step 365 (matched state 10 steps back)\n",
            "    Running trial 12 of 20\n",
            "      Stabilized at step 241 (matched state 9 steps back)\n",
            "    Running trial 13 of 20\n",
            "      Stabilized at step 93 (matched state 10 steps back)\n",
            "    Running trial 14 of 20\n",
            "      Stabilized at step 234 (matched state 9 steps back)\n",
            "    Running trial 15 of 20\n",
            "      Stabilized at step 143 (matched state 9 steps back)\n",
            "    Running trial 16 of 20\n",
            "    Running trial 17 of 20\n",
            "      Stabilized at step 389 (matched state 9 steps back)\n",
            "    Running trial 18 of 20\n",
            "      Stabilized at step 95 (matched state 10 steps back)\n",
            "    Running trial 19 of 20\n",
            "      Stabilized at step 172 (matched state 10 steps back)\n",
            "    Running trial 20 of 20\n",
            "      Stabilized at step 162 (matched state 9 steps back)\n",
            "  Processing p = 0.5 (p_index = 2)\n",
            "    Running trial 1 of 20\n",
            "      Stabilized at step 86 (matched state 10 steps back)\n",
            "    Running trial 2 of 20\n",
            "      Stabilized at step 328 (matched state 10 steps back)\n",
            "    Running trial 3 of 20\n",
            "      Stabilized at step 44 (matched state 10 steps back)\n",
            "    Running trial 4 of 20\n",
            "      Stabilized at step 54 (matched state 9 steps back)\n",
            "    Running trial 5 of 20\n",
            "      Stabilized at step 176 (matched state 10 steps back)\n",
            "    Running trial 6 of 20\n",
            "      Stabilized at step 156 (matched state 9 steps back)\n",
            "    Running trial 7 of 20\n",
            "    Running trial 8 of 20\n",
            "      Stabilized at step 137 (matched state 10 steps back)\n",
            "    Running trial 9 of 20\n",
            "      Stabilized at step 455 (matched state 10 steps back)\n",
            "    Running trial 10 of 20\n",
            "      Stabilized at step 78 (matched state 9 steps back)\n",
            "    Running trial 11 of 20\n",
            "      Stabilized at step 149 (matched state 9 steps back)\n",
            "    Running trial 12 of 20\n",
            "      Stabilized at step 241 (matched state 9 steps back)\n",
            "    Running trial 13 of 20\n",
            "      Stabilized at step 293 (matched state 9 steps back)\n",
            "    Running trial 14 of 20\n",
            "      Stabilized at step 208 (matched state 10 steps back)\n",
            "    Running trial 15 of 20\n",
            "      Stabilized at step 59 (matched state 10 steps back)\n",
            "    Running trial 16 of 20\n",
            "      Stabilized at step 135 (matched state 9 steps back)\n",
            "    Running trial 17 of 20\n",
            "      Stabilized at step 35 (matched state 9 steps back)\n",
            "    Running trial 18 of 20\n",
            "      Stabilized at step 42 (matched state 10 steps back)\n",
            "    Running trial 19 of 20\n",
            "      Stabilized at step 124 (matched state 10 steps back)\n",
            "    Running trial 20 of 20\n",
            "      Stabilized at step 41 (matched state 9 steps back)\n",
            "  Processing p = 0.7 (p_index = 3)\n",
            "    Running trial 1 of 20\n",
            "      Stabilized at step 325 (matched state 9 steps back)\n",
            "    Running trial 2 of 20\n",
            "      Stabilized at step 308 (matched state 10 steps back)\n",
            "    Running trial 3 of 20\n",
            "      Stabilized at step 79 (matched state 10 steps back)\n",
            "    Running trial 4 of 20\n",
            "      Stabilized at step 166 (matched state 9 steps back)\n",
            "    Running trial 5 of 20\n",
            "      Stabilized at step 74 (matched state 9 steps back)\n",
            "    Running trial 6 of 20\n",
            "    Running trial 7 of 20\n",
            "      Stabilized at step 129 (matched state 9 steps back)\n",
            "    Running trial 8 of 20\n",
            "      Stabilized at step 79 (matched state 10 steps back)\n",
            "    Running trial 9 of 20\n",
            "      Stabilized at step 192 (matched state 9 steps back)\n",
            "    Running trial 10 of 20\n",
            "      Stabilized at step 228 (matched state 10 steps back)\n",
            "    Running trial 11 of 20\n",
            "      Stabilized at step 413 (matched state 10 steps back)\n",
            "    Running trial 12 of 20\n",
            "      Stabilized at step 280 (matched state 10 steps back)\n",
            "    Running trial 13 of 20\n",
            "      Stabilized at step 137 (matched state 10 steps back)\n",
            "    Running trial 14 of 20\n",
            "    Running trial 15 of 20\n",
            "      Stabilized at step 66 (matched state 10 steps back)\n",
            "    Running trial 16 of 20\n",
            "      Stabilized at step 335 (matched state 10 steps back)\n",
            "    Running trial 17 of 20\n",
            "      Stabilized at step 65 (matched state 9 steps back)\n",
            "    Running trial 18 of 20\n",
            "      Stabilized at step 241 (matched state 10 steps back)\n",
            "    Running trial 19 of 20\n",
            "      Stabilized at step 121 (matched state 9 steps back)\n",
            "    Running trial 20 of 20\n",
            "      Stabilized at step 364 (matched state 9 steps back)\n",
            "  Processing p = 0.9 (p_index = 4)\n",
            "    Running trial 1 of 20\n",
            "      Stabilized at step 82 (matched state 10 steps back)\n",
            "    Running trial 2 of 20\n",
            "    Running trial 3 of 20\n",
            "    Running trial 4 of 20\n",
            "      Stabilized at step 283 (matched state 9 steps back)\n",
            "    Running trial 5 of 20\n",
            "      Stabilized at step 40 (matched state 10 steps back)\n",
            "    Running trial 6 of 20\n",
            "      Stabilized at step 295 (matched state 10 steps back)\n",
            "    Running trial 7 of 20\n",
            "      Stabilized at step 411 (matched state 9 steps back)\n",
            "    Running trial 8 of 20\n",
            "      Stabilized at step 61 (matched state 10 steps back)\n",
            "    Running trial 9 of 20\n",
            "      Stabilized at step 145 (matched state 9 steps back)\n",
            "    Running trial 10 of 20\n",
            "      Stabilized at step 199 (matched state 10 steps back)\n",
            "    Running trial 11 of 20\n",
            "      Stabilized at step 84 (matched state 10 steps back)\n",
            "    Running trial 12 of 20\n",
            "      Stabilized at step 66 (matched state 10 steps back)\n",
            "    Running trial 13 of 20\n",
            "      Stabilized at step 317 (matched state 10 steps back)\n",
            "    Running trial 14 of 20\n",
            "      Stabilized at step 119 (matched state 10 steps back)\n",
            "    Running trial 15 of 20\n",
            "      Stabilized at step 189 (matched state 9 steps back)\n",
            "    Running trial 16 of 20\n",
            "      Stabilized at step 173 (matched state 9 steps back)\n",
            "    Running trial 17 of 20\n",
            "      Stabilized at step 77 (matched state 9 steps back)\n",
            "    Running trial 18 of 20\n",
            "    Running trial 19 of 20\n",
            "      Stabilized at step 63 (matched state 10 steps back)\n",
            "    Running trial 20 of 20\n",
            "      Stabilized at step 106 (matched state 9 steps back)\n",
            "run_experiment complete.\n",
            "Experiment completed successfully.\n",
            "Analyzing results...\n",
            "Checking for non-static final states...\n",
            "For p = 0.10, 18 out of 20 trials ended in a non-static, non-dead state.\n"
          ]
        },
        {
          "output_type": "display_data",
          "data": {
            "text/plain": [
              "<Figure size 1000x600 with 1 Axes>"
            ],
            "image/png": "[encoded data removed]"
          },
          "metadata": {}
        },
        {
          "output_type": "display_data",
          "data": {
            "text/plain": [
              "<Figure size 1500x300 with 5 Axes>"
            ],
            "image/png": "[encoded data removed]"
          },
          "metadata": {}
        },
        {
          "output_type": "stream",
          "name": "stdout",
          "text": [
            "For p = 0.30, 19 out of 20 trials ended in a non-static, non-dead state.\n"
          ]
        },
        {
          "output_type": "display_data",
          "data": {
            "text/plain": [
              "<Figure size 1500x300 with 5 Axes>"
            ],
            "image/png": "[encoded data removed]"
          },
          "metadata": {}
        },
        {
          "output_type": "stream",
          "name": "stdout",
          "text": [
            "For p = 0.50, 19 out of 20 trials ended in a non-static, non-dead state.\n"
          ]
        },
        {
          "output_type": "display_data",
          "data": {
            "text/plain": [
              "<Figure size 1500x300 with 5 Axes>"
            ],
            "image/png": "[encoded data removed]"
          },
          "metadata": {}
        },
        {
          "output_type": "stream",
          "name": "stdout",
          "text": [
            "For p = 0.70, 19 out of 20 trials ended in a non-static, non-dead state.\n"
          ]
        },
        {
          "output_type": "display_data",
          "data": {
            "text/plain": [
              "<Figure size 1500x300 with 5 Axes>"
            ],
            "image/png": "[encoded data removed]"
          },
          "metadata": {}
        },
        {
          "output_type": "stream",
          "name": "stdout",
          "text": [
            "For p = 0.90, 20 out of 20 trials ended in a non-static, non-dead state.\n"
          ]
        },
        {
          "output_type": "display_data",
          "data": {
            "text/plain": [
              "<Figure size 1500x300 with 5 Axes>"
            ],
            "image/png": "[encoded data removed]"
          },
          "metadata": {}
        },
        {
          "output_type": "stream",
          "name": "stdout",
          "text": [
            "\n",
            "Summary Statistics:\n",
            "p = 0.10:  Mean = 219.50,  Std Dev = 139.45\n",
            "p = 0.30:  Mean = 195.35,  Std Dev = 126.21\n",
            "p = 0.50:  Mean = 167.05,  Std Dev = 132.30\n",
            "p = 0.70:  Mean = 230.10,  Std Dev = 138.98\n",
            "p = 0.90:  Mean = 210.50,  Std Dev = 155.78\n",
            "Script complete.\n"
          ]
        }
      ],
      "source": [
        "import matplotlib.pyplot as plt\n",
        "import numpy as np\n",
        "from scipy.signal import correlate2d\n",
        "\n",
        "# --- (Improved) Life Classes ---\n",
        "#For colab notebook.\n",
        "def plot_2d_array(data, axes=None, title='', cmap='viridis'):\n",
        "    \"\"\" Plot a 2D array using imshow. \"\"\"\n",
        "    axes = axes or plt.gca()\n",
        "    axes.imshow(data, cmap=cmap, interpolation='none')\n",
        "    axes.set_title(title)\n",
        "    axes.set_xlabel('Columns')\n",
        "    axes.set_ylabel('Rows')\n",
        "    # Turn off tick labels\n",
        "    axes.set_xticklabels([])\n",
        "    axes.set_yticklabels([])\n",
        "\n",
        "class BetterLife2D_Faster(Life2D):  # Inherit from Life2D class\n",
        "    def __init__(self, n_rows, n_cols=None):\n",
        "        super().__init__(n_rows, n_cols)\n",
        "        self.randomize_state(0.5)\n",
        "        # Don't draw here initially!\n",
        "    def step(self):\n",
        "        transitions = correlate2d(self.state, self.kernel, mode='same', boundary='wrap')\n",
        "        #This is where the magic happens:\n",
        "        self.state = self.next_state[transitions] * self.state #Apply survival rule\n",
        "        # Now add birth rule\n",
        "        birth_transitions = (transitions == 3) & (self.state == 0) # Cells that *should* be born\n",
        "        self.state[birth_transitions] = 1\n",
        "        # NO DRAWING!\n",
        "    def draw(self, axes=None, step=''): # Keep the draw method for later use\n",
        "        axes = axes or plt.gca()\n",
        "        plot_2d_array(self.state, axes, title=f\"Conway's Game of Life {step}\")\n",
        "    def randomize_state(self, p):\n",
        "        self.state = np.random.choice([0, 1], size=self.state.shape, p=[1-p, p])\n",
        "        # Don't draw here either!\n",
        "    def load_pattern(self, x, y, pattern):\n",
        "      pattern_height, pattern_width = pattern.shape\n",
        "      self.state[x:x + pattern_height, y:y + pattern_width] = pattern\n",
        "def random_life_faster(n_rows, n_cols=None, p=0.5):\n",
        "    return BetterLife2D_Faster(n_rows, n_cols)\n",
        "\n",
        "# --- Experiment Framework ---\n",
        "\n",
        "def run_experiment(p_values, grid_size, max_steps, num_trials, cycle_detection_depth=10):\n",
        "    print(\"Running run_experiment...\") # DEBUG\n",
        "    all_stabilization_times = []\n",
        "    all_final_states = []\n",
        "\n",
        "    for p_index, p in enumerate(p_values):  #Added enumerate here\n",
        "        print(f\"  Processing p = {p} (p_index = {p_index})\")  # DEBUG\n",
        "        trial_stabilization_times = []\n",
        "        trial_final_states = []\n",
        "        for trial in range(num_trials):\n",
        "            print(f\"    Running trial {trial + 1} of {num_trials}\")  # DEBUG\n",
        "            life = random_life_faster(grid_size, grid_size, p=p)  # Use your random_life function\n",
        "            previous_states = []  # Store previous states for cycle detection\n",
        "            stabilized_step = max_steps  # Assume max_steps if it doesn't stabilize\n",
        "\n",
        "            for step in range(1, max_steps + 1):\n",
        "                #print(f\"      Step {step}\")  # DEBUG (comment this out for speed, but keep it for now)\n",
        "                life.step()\n",
        "\n",
        "                # Check for stabilization (same as a previous state)\n",
        "                for i, prev_state in enumerate(previous_states):\n",
        "                    if np.array_equal(life.state, prev_state):\n",
        "                        stabilized_step = step\n",
        "                        print(f\"      Stabilized at step {step} (matched state {i+1} steps back)\")  # DEBUG\n",
        "                        break  # Exit the inner loop\n",
        "                if stabilized_step != max_steps:\n",
        "                    break #exit outer loop\n",
        "\n",
        "                # Add current state to history (keep only the last cycle_detection_depth states)\n",
        "                previous_states.append(life.state.copy())\n",
        "                if len(previous_states) > cycle_detection_depth:\n",
        "                    previous_states.pop(0)  # Remove the oldest state\n",
        "\n",
        "            trial_stabilization_times.append(stabilized_step)\n",
        "            trial_final_states.append(life.state.copy())\n",
        "        all_stabilization_times.append(trial_stabilization_times)\n",
        "        all_final_states.append(trial_final_states)\n",
        "\n",
        "    print(\"run_experiment complete.\")  # DEBUG\n",
        "    return all_stabilization_times, all_final_states\n",
        "\n",
        "# --- Experiment Parameters (Tune These!) ---\n",
        "\n",
        "p_values = [0.1, 0.3, 0.5, 0.7, 0.9]  # Probabilities to test - Reduced for faster debugging\n",
        "grid_size = 20   # Grid size - Reduced for faster debugging\n",
        "max_steps = 1000  # Maximum steps - Reduced for faster debugging\n",
        "num_trials = 20   # Number of trials - Reduced for faster debugging\n",
        "cycle_detection_depth = 10  # How many previous states to check for cycles\n",
        "\n",
        "# --- Run the Experiment ---\n",
        "print(\"Starting experiment...\") #DEBUG\n",
        "try:\n",
        "    results, final_states = run_experiment(p_values, grid_size, max_steps, num_trials, cycle_detection_depth)\n",
        "    print(\"Experiment completed successfully.\") #DEBUG\n",
        "except Exception as e:\n",
        "    print(f\"An error occurred during the experiment: {e}\")\n",
        "    results = [] #Ensure results is defined\n",
        "    final_states = []#Ensure final_states id defined\n",
        "\n",
        "\n",
        "# --- Data Analysis and Plotting ---\n",
        "print(\"Analyzing results...\")#DEBUG\n",
        "try:\n",
        "    avg_stabilization_times = [np.mean(times) for times in results]\n",
        "    std_devs = [np.std(times) for times in results]\n",
        "except Exception as e:\n",
        "    print(f\"Error during data analysis {e}\")\n",
        "    avg_stabilization_times = [] #ensure defined\n",
        "    std_devs = [] #ensure defined\n",
        "\n",
        "plt.figure(figsize=(10, 6))\n",
        "plt.errorbar(p_values, avg_stabilization_times, yerr=std_devs, fmt='o-', capsize=5, label='Average Stabilization Time')\n",
        "plt.xlabel('Probability (p)')\n",
        "plt.ylabel('Average Stabilization Time (steps)')\n",
        "plt.title('Relationship between p and Stabilization Time in Conway\\'s Game of Life')\n",
        "plt.grid(True)\n",
        "plt.ylim(0, max_steps + 50)  # Adjust y-axis limits as needed\n",
        "plt.legend()\n",
        "\n",
        "\n",
        "# --- Identify and Plot Non-Static Final States (Cycle Detection) ---\n",
        "print(\"Checking for non-static final states...\") #DEBUG\n",
        "for p_index, p in enumerate(p_values):\n",
        "    non_static_count = 0\n",
        "    for final_state in final_states[p_index]:\n",
        "        unique_elements = np.unique(final_state)\n",
        "        if len(unique_elements) > 1:  # Not all zeros (not dead) and not all ones (full grid)\n",
        "            if np.sum(final_state) > 0: #Must have some live cells\n",
        "                non_static_count += 1\n",
        "    print(f\"For p = {p:.2f}, {non_static_count} out of {num_trials} trials ended in a non-static, non-dead state.\")\n",
        "\n",
        "    # --- Visualize non-static states ---\n",
        "    if non_static_count > 0:\n",
        "        fig, axes = plt.subplots(1, min(non_static_count, 5), figsize=(15, 3))  # Show up to 5 examples\n",
        "        fig.suptitle(f\"Non-Static Final States for p = {p:.2f}\")\n",
        "        for i in range(min(non_static_count, 5)):\n",
        "            plot_2d_array(final_states[p_index][i], axes=axes[i])\n",
        "        plt.show(block=True)\n",
        "\n",
        "\n",
        "\n",
        "# --- Summary Statistics ---\n",
        "\n",
        "print(\"\\nSummary Statistics:\")\n",
        "for p, mean, std in zip(p_values, avg_stabilization_times, std_devs):\n",
        "    print(f\"p = {p:.2f}:  Mean = {mean:.2f},  Std Dev = {std:.2f}\")\n",
        "\n",
        "plt.show(block=True)\n",
        "print(\"Script complete.\") #DEBUG"
      ],
      "metadata": {
        "pycharm": {
          "name": "#%%\n"
        },
        "ExecuteTime": {
          "end_time": "2024-01-06T00:59:32.386367Z",
          "start_time": "2024-01-06T00:59:32.383563Z"
        },
        "id": "Obsdq4Pyl5Vl",
        "colab": {
          "base_uri": "https://localhost:8080/",
          "height": 1000
        },
        "outputId": "692147b7-d2af-4d59-dc43-817f504b7948"
      }
    },
    {
      "cell_type": "markdown",
      "source": [
        "## Exercise 3: Load Patterns\n",
        "People have discovered many interesting [\"patterns\"](https://conwaylife.com/wiki/Category:Patterns) that exhibit various types of behaviours.\n",
        "A \"pattern\" is just a small 2D array.\n",
        " 1. Develop a function that returns a 2D array containing the patterns defined by a single string; and\n",
        " 2. Add a `load_pattern(x, y, pattern)` method to your `BetterLife2D` class above to insert patterns into the Life state array\n",
        "    *Tip*: you can [assign an entire 2D slice of a numpy array](https://www.nickmccullum.com/advanced-python/numpy-indexing-assignment/) in a single assignment statement!   See example in the Sample Usage block above. Try it!"
      ],
      "metadata": {
        "collapsed": false,
        "pycharm": {
          "name": "#%% md\n"
        },
        "id": "1VtDf5J4l5Vl"
      }
    },
    {
      "cell_type": "code",
      "execution_count": 40,
      "outputs": [],
      "source": [
        "# Here's an example of the glider pattern from above defined in a single string...\n",
        "glider_pattern = \\\n",
        "    \"\"\"\n",
        "    010\n",
        "    001\n",
        "    111\n",
        "    \"\"\"\n",
        "\n",
        "# Ex. 3 your code here...\n",
        "def load_pattern(self, x, y, pattern):\n",
        "  \"\"\"\n",
        "  Loads a pattern into the Life state array at the specified coordinates.\n",
        "\n",
        "    Args:\n",
        "      x: The x-coordinate of the top-left corner of the pattern.\n",
        "      y: The y-coordinate of the top-left corner of the pattern.\n",
        "      pattern: The 2D numpy array representing the pattern.\n",
        "  \"\"\"\n",
        "  pattern_height, pattern_width = pattern.shape\n",
        "  self.state[x:x + pattern_height, y:y + pattern_width] = pattern"
      ],
      "metadata": {
        "pycharm": {
          "name": "#%%\n"
        },
        "ExecuteTime": {
          "end_time": "2024-01-06T00:59:32.388974Z",
          "start_time": "2024-01-06T00:59:32.385536Z"
        },
        "id": "MFGpuUnql5Vl"
      }
    },
    {
      "cell_type": "markdown",
      "source": [
        "### Define some patterns\n",
        "User your nifty new function to define a few common, interesting patterns (e.g., from the book or other sources)"
      ],
      "metadata": {
        "collapsed": false,
        "pycharm": {
          "name": "#%% md\n"
        },
        "id": "NkFt2Qx4l5Vl"
      }
    },
    {
      "cell_type": "code",
      "execution_count": 22,
      "outputs": [],
      "source": [
        "# Ex. 3 define your patterns here...\n",
        "glider = load_pattern(glider_pattern)\n",
        "beehive = load_pattern(\"\"\"\n",
        "    010\n",
        "    101\n",
        "    101\n",
        "    010\n",
        "    \"\"\")\n",
        "block = load_pattern(\"\"\"\n",
        "    11\n",
        "    11\n",
        "    \"\"\")\n",
        "gosper_gun = load_pattern(\"\"\"\n",
        "    00000000000000000000000\n",
        "00000001100000000001100\n",
        "00000010010000000010000\n",
        "00000010010001100100000\n",
        "00000001010010010000000\n",
        "00000000110000000000000\n",
        "00000000000000000000000\n",
        "\"\"\")"
      ],
      "metadata": {
        "pycharm": {
          "name": "#%%\n"
        },
        "ExecuteTime": {
          "end_time": "2024-01-06T00:59:32.389471Z",
          "start_time": "2024-01-06T00:59:32.387944Z"
        },
        "id": "G6iLZ912l5Vl"
      }
    },
    {
      "cell_type": "markdown",
      "source": [
        "### Experiment\n",
        "Load up a BetterLife2D object with some patterns that interact in some interesting way.\n",
        "What can we learn from studying interactions like this?   Is anything here applicable to the real world?"
      ],
      "metadata": {
        "collapsed": false,
        "pycharm": {
          "name": "#%% md\n"
        },
        "id": "DmDsoUlLl5Vm"
      }
    },
    {
      "cell_type": "code",
      "execution_count": 39,
      "outputs": [
        {
          "output_type": "stream",
          "name": "stdout",
          "text": [
            "20 frames\n",
            "[(1, 639), (2, 541), (3, 547), (4, 506), (5, 497), (6, 432), (7, 431), (8, 398), (9, 381), (10, 374), (11, 366), (12, 361), (13, 367), (14, 365), (15, 376), (16, 388), (17, 378), (18, 389), (19, 381), (20, 359)]\n"
          ]
        },
        {
          "output_type": "display_data",
          "data": {
            "text/plain": [
              "<Figure size 640x480 with 1 Axes>"
            ],
            "image/png": "[encoded data removed]"
          },
          "metadata": {}
        }
      ],
      "source": [
        "# Ex. 3 code for your experiment here\n",
        "life = BetterLife2D(50)\n",
        "life.load_pattern(10, 10, gosper_gun)\n",
        "life.load_pattern(10, 10, glider)\n",
        "life.load_pattern(20, 20, block)  # Place a block strategically\n",
        "\n",
        "# Example: Track population count\n",
        "population_count = []\n",
        "for i in range(gol.frames):\n",
        "    life.step()\n",
        "    population_count.append((i+1, np.sum(life.state)))\n",
        "print(f\"{gol.frames} frames\")\n",
        "print(population_count)"
      ],
      "metadata": {
        "pycharm": {
          "name": "#%%\n"
        },
        "ExecuteTime": {
          "end_time": "2024-01-06T00:59:32.392005Z",
          "start_time": "2024-01-06T00:59:32.389848Z"
        },
        "id": "kNvtcTxrl5Vm",
        "colab": {
          "base_uri": "https://localhost:8080/",
          "height": 483
        },
        "outputId": "3e2d295b-2df8-49d4-d2c6-e4f26ac6b84c"
      }
    }
  ],
  "metadata": {
    "kernelspec": {
      "display_name": "Python 3",
      "language": "python",
      "name": "python3"
    },
    "language_info": {
      "codemirror_mode": {
        "name": "ipython",
        "version": 2
      },
      "file_extension": ".py",
      "mimetype": "text/x-python",
      "name": "python",
      "nbconvert_exporter": "python",
      "pygments_lexer": "ipython2",
      "version": "2.7.6"
    },
    "colab": {
      "provenance": [],
      "include_colab_link": true
    }
  },
  "nbformat": 4,
  "nbformat_minor": 0
}